{
 "cells": [
  {
   "cell_type": "markdown",
   "metadata": {},
   "source": [
    "Copyright (c) Microsoft Corporation. All rights reserved.  \n",
    "Licensed under the MIT License."
   ]
  },
  {
   "cell_type": "markdown",
   "metadata": {},
   "source": [
    "# Mobilenet v2 Quantization with ONNX Runtime on CPU"
   ]
  },
  {
   "cell_type": "markdown",
   "metadata": {},
   "source": [
    "In this tutorial, we will load a mobilenet v2 model pretrained with [PyTorch](https://pytorch.org/), export the model to ONNX, quantize then run with ONNXRuntime, and convert the ONNX models to ORT format for ONNXRuntime Mobile."
   ]
  },
  {
   "cell_type": "markdown",
   "metadata": {},
   "source": [
    "## 0. Prerequisites ##\n",
    "\n",
    "If you have Jupyter Notebook, you can run this notebook directly with it. You may need to install or upgrade [PyTorch](https://pytorch.org/), [OnnxRuntime](https://microsoft.github.io/onnxruntime/), and other required packages.\n",
    "\n",
    "Otherwise, you can setup a new environment. First, install [Anaconda](https://www.anaconda.com/distribution/). Then open an AnaConda prompt window and run the following commands:\n",
    "\n",
    "```console\n",
    "conda create -n cpu_env python=3.8\n",
    "conda activate cpu_env\n",
    "conda install jupyter\n",
    "jupyter notebook\n",
    "```\n",
    "The last command will launch Jupyter Notebook and we can open this notebook in browser to continue."
   ]
  },
  {
   "cell_type": "markdown",
   "metadata": {},
   "source": [
    "### 0.1 Install packages\n",
    "Let's install the necessary packages to start the tutorial. We will install PyTorch 1.8, OnnxRuntime 1.8, latest ONNX and pillow."
   ]
  },
  {
   "cell_type": "code",
   "execution_count": 1,
   "metadata": {
    "scrolled": true
   },
   "outputs": [
    {
     "name": "stdout",
     "output_type": "stream",
     "text": [
      "Looking in links: https://download.pytorch.org/whl/torch_stable.html\n",
      "Requirement already satisfied: torch==1.8.0 in /Users/paulkoomey/opt/anaconda3/envs/cpu_env/lib/python3.8/site-packages (1.8.0)\n",
      "Requirement already satisfied: torchvision==0.9.0 in /Users/paulkoomey/opt/anaconda3/envs/cpu_env/lib/python3.8/site-packages (0.9.0)\n",
      "Requirement already satisfied: torchaudio===0.8.0 in /Users/paulkoomey/opt/anaconda3/envs/cpu_env/lib/python3.8/site-packages (0.8.0)\n",
      "Requirement already satisfied: typing-extensions in /Users/paulkoomey/opt/anaconda3/envs/cpu_env/lib/python3.8/site-packages (from torch==1.8.0) (4.3.0)\n",
      "Requirement already satisfied: numpy in /Users/paulkoomey/opt/anaconda3/envs/cpu_env/lib/python3.8/site-packages (from torch==1.8.0) (1.23.4)\n",
      "Requirement already satisfied: pillow>=4.1.1 in /Users/paulkoomey/opt/anaconda3/envs/cpu_env/lib/python3.8/site-packages (from torchvision==0.9.0) (9.2.0)\n",
      "Requirement already satisfied: onnxruntime==1.8.0 in /Users/paulkoomey/opt/anaconda3/envs/cpu_env/lib/python3.8/site-packages (1.8.0)\n",
      "Requirement already satisfied: protobuf in /Users/paulkoomey/opt/anaconda3/envs/cpu_env/lib/python3.8/site-packages (from onnxruntime==1.8.0) (3.20.1)\n",
      "Requirement already satisfied: flatbuffers in /Users/paulkoomey/opt/anaconda3/envs/cpu_env/lib/python3.8/site-packages (from onnxruntime==1.8.0) (22.9.24)\n",
      "Requirement already satisfied: numpy>=1.16.6 in /Users/paulkoomey/opt/anaconda3/envs/cpu_env/lib/python3.8/site-packages (from onnxruntime==1.8.0) (1.23.4)\n",
      "Requirement already satisfied: onnx in /Users/paulkoomey/opt/anaconda3/envs/cpu_env/lib/python3.8/site-packages (1.12.0)\n",
      "Requirement already satisfied: protobuf<=3.20.1,>=3.12.2 in /Users/paulkoomey/opt/anaconda3/envs/cpu_env/lib/python3.8/site-packages (from onnx) (3.20.1)\n",
      "Requirement already satisfied: typing-extensions>=3.6.2.1 in /Users/paulkoomey/opt/anaconda3/envs/cpu_env/lib/python3.8/site-packages (from onnx) (4.3.0)\n",
      "Requirement already satisfied: numpy>=1.16.6 in /Users/paulkoomey/opt/anaconda3/envs/cpu_env/lib/python3.8/site-packages (from onnx) (1.23.4)\n",
      "Requirement already satisfied: pillow in /Users/paulkoomey/opt/anaconda3/envs/cpu_env/lib/python3.8/site-packages (9.2.0)\n"
     ]
    }
   ],
   "source": [
    "# Install or upgrade PyTorch 1.8.0 and OnnxRuntime 1.8 for CPU-only.\n",
    "import sys\n",
    "!{sys.executable} -m pip install --upgrade torch==1.8.0 torchvision==0.9.0 torchaudio===0.8.0 -f https://download.pytorch.org/whl/torch_stable.html\n",
    "!{sys.executable} -m pip install --upgrade onnxruntime==1.8.0\n",
    "!{sys.executable} -m pip install --upgrade onnx\n",
    "!{sys.executable} -m pip install --upgrade pillow"
   ]
  },
  {
   "cell_type": "markdown",
   "metadata": {},
   "source": [
    "# 1 Download pretrained model and export to ONNX"
   ]
  },
  {
   "cell_type": "markdown",
   "metadata": {},
   "source": [
    "In this step, we load a pretrained mobilenet v2 model, and export it to ONNX."
   ]
  },
  {
   "cell_type": "markdown",
   "metadata": {},
   "source": [
    "### 1.1 Load the pretrained model\n",
    "Use torchvision provides API to load mobilenet_v2 model."
   ]
  },
  {
   "cell_type": "code",
   "execution_count": 1,
   "metadata": {},
   "outputs": [],
   "source": [
    "from torchvision import models, datasets, transforms as T\n",
    "# mobilenet_v2 = models.mobilenet_v2(pretrained=True)\n",
    "\n",
    "# import patching model rather than mobilenet_v2\n",
    "#    - do I need to simplify it?\n",
    "#        * all I need is model._run_step(x) which outputs a tuple contianing mu and sigma\n",
    "#        * I am pretty sure it is the customVAE module that needs to be changed\n",
    "#        * Will I need to create an entire new model module?\n",
    "#    - if so, how do I do this?\n",
    "#    - is there a way to load in the weights for the model and change the architecture\n",
    "#             to only call _run_step(x) and output that?\n",
    "#    - also, we only need the weights for the decoder. I am assuming if we could shrink the\n",
    "#             model somehow, we would reduce the size of it on mobile too.\n",
    "\n",
    "\n",
    "from vae5 import *    # I need to locally import this file and its dependencies\n",
    "\n",
    "local_checkpoint_path = \"\"\n",
    "\n",
    "patch_model = customVAE.load_from_checkpoint(checkpoint_path=local_checkpoint_path)"
   ]
  },
  {
   "cell_type": "markdown",
   "metadata": {},
   "source": [
    "### 1.2 Export the model to ONNX\n",
    "Pytorch onnx export API to export the model."
   ]
  },
  {
   "cell_type": "code",
   "execution_count": 2,
   "metadata": {},
   "outputs": [
    {
     "name": "stderr",
     "output_type": "stream",
     "text": [
      "[W NNPACK.cpp:51] Could not initialize NNPACK! Reason: Unsupported hardware.\n"
     ]
    }
   ],
   "source": [
    "import torch\n",
    "image_height = 224\n",
    "image_width = 224\n",
    "x = torch.randn(1, 3, image_height, image_width, requires_grad=True) # This should be used a reference for the raw input to the model (preprocessed)\n",
    "# That being said, how much of the preprocessing needs to be changed\n",
    "# I am assuming that we will be using a batch size of 1\n",
    "# as of now, our dataloader takes in file names and outputs an array that is used to point to individual images\n",
    "# I am assuming that we will have to make this shape be the same as the shape of the output of __getitem__ in \n",
    "#    the dataloader which is a result of _img_to_tensor() of a 64x64 sized image patch\n",
    "# Is the dataloader.__getitem__ used as the input for each item in a batch?\n",
    "\n",
    "\n",
    "\n",
    "\n",
    "\n",
    "torch_out = mobilenet_v2(x)\n",
    "\n",
    "# Export the model\n",
    "torch.onnx.export(mobilenet_v2,              # model being run, we need to get the real one\n",
    "                  x,                         # model input (or a tuple for multiple inputs)\n",
    "                  \"mobilenet_v2_float.onnx\", # where to save the model (can be a file or file-like object)\n",
    "                  export_params=True,        # store the trained parameter weights inside the model file\n",
    "                  opset_version=12,          # the ONNX version to export the model to\n",
    "                  do_constant_folding=True,  # whether to execute constant folding for optimization\n",
    "                  input_names = ['input'],   # the model's input names\n",
    "                  output_names = ['output']) # the model's output names\n"
   ]
  },
  {
   "cell_type": "markdown",
   "metadata": {},
   "source": [
    "### 1.3 Sample Execution with ONNXRuntime"
   ]
  },
  {
   "cell_type": "markdown",
   "metadata": {},
   "source": [
    "Run an sample with the full precision ONNX model. Firstly, implement the preprocess."
   ]
  },
  {
   "cell_type": "code",
   "execution_count": 3,
   "metadata": {},
   "outputs": [
    {
     "name": "stderr",
     "output_type": "stream",
     "text": [
      "2022-10-24 13:00:06.671941 [E:onnxruntime:Default, provider_bridge_ort.cc:902 Ensure] Failed to load library libonnxruntime_providers_shared.dylib with error: dlopen(libonnxruntime_providers_shared.dylib, 0x000A): tried: '/Users/paulkoomey/opt/anaconda3/lib/python3.9/site-packages/onnxruntime/capi/libonnxruntime_providers_shared.dylib' (no such file), '/Users/paulkoomey/opt/anaconda3/lib/libonnxruntime_providers_shared.dylib' (no such file), '/Users/paulkoomey/opt/anaconda3/bin/../lib/libonnxruntime_providers_shared.dylib' (no such file), 'libonnxruntime_providers_shared.dylib' (no such file), '/usr/local/lib/libonnxruntime_providers_shared.dylib' (no such file), '/usr/lib/libonnxruntime_providers_shared.dylib' (no such file), '/Users/paulkoomey/Desktop/Life/UTA/2022 Fall/CSE 4391/onyx-model/onnxruntime-inference-examples-modified/quantization/notebooks/imagenet_v2/libonnxruntime_providers_shared.dylib' (no such file)\n",
      "2022-10-24 13:00:06.671965 [W:onnxruntime:Default, onnxruntime_pybind_state.cc:1615 pybind11_init_onnxruntime_pybind11_state] Init provider bridge failed.\n"
     ]
    }
   ],
   "source": [
    "from PIL import Image\n",
    "import numpy as np\n",
    "import onnxruntime\n",
    "import torch\n",
    "\n",
    "# I will likely need to perform the same transformations on each patch that are done in inference.py\n",
    "# these transforms are done in the dataloader inside of the _img_to_tensor() function\n",
    "# What exactly do these transformations do? What do I need to replicate on mobile?\n",
    "# What exactly does transforms.Compose do?\n",
    "#     - after looking at documentation, it looks like it is used to make transformations on images before\n",
    "#             feeding them into the model\n",
    "\n",
    "def preprocess_image(image_path, height, width, channels=3):\n",
    "    image = Image.open(image_path)\n",
    "    image = image.resize((width, height), Image.ANTIALIAS)\n",
    "    image_data = np.asarray(image).astype(np.float32)\n",
    "    image_data = image_data.transpose([2, 0, 1]) # transpose to CHW\n",
    "    mean = np.array([0.079, 0.05, 0]) + 0.406\n",
    "    std = np.array([0.005, 0, 0.001]) + 0.224\n",
    "    for channel in range(image_data.shape[0]):\n",
    "        image_data[channel, :, :] = (image_data[channel, :, :] / 255 - mean[channel]) / std[channel]\n",
    "    image_data = np.expand_dims(image_data, 0)\n",
    "    return image_data"
   ]
  },
  {
   "cell_type": "markdown",
   "metadata": {},
   "source": [
    "#### Download the imagenet labels and load it"
   ]
  },
  {
   "cell_type": "code",
   "execution_count": 4,
   "metadata": {},
   "outputs": [
    {
     "name": "stdout",
     "output_type": "stream",
     "text": [
      "  % Total    % Received % Xferd  Average Speed   Time    Time     Time  Current\n",
      "                                 Dload  Upload   Total   Spent    Left  Speed\n",
      "100 10472  100 10472    0     0  58834      0 --:--:-- --:--:-- --:--:-- 59163\n"
     ]
    }
   ],
   "source": [
    "# Download ImageNet labels\n",
    "!curl -o imagenet_classes.txt https://raw.githubusercontent.com/pytorch/hub/master/imagenet_classes.txt\n",
    "\n",
    "# Read the categories\n",
    "with open(\"imagenet_classes.txt\", \"r\") as f:\n",
    "    categories = [s.strip() for s in f.readlines()]"
   ]
  },
  {
   "cell_type": "markdown",
   "metadata": {},
   "source": [
    "#### Run the example with ONNXRuntime"
   ]
  },
  {
   "cell_type": "code",
   "execution_count": 5,
   "metadata": {},
   "outputs": [
    {
     "name": "stdout",
     "output_type": "stream",
     "text": [
      "tabby 0.70533055\n",
      "Egyptian cat 0.15252899\n",
      "tiger cat 0.12229194\n",
      "lynx 0.0043019513\n",
      "plastic bag 0.0034168828\n"
     ]
    },
    {
     "name": "stderr",
     "output_type": "stream",
     "text": [
      "/var/folders/6z/7rs7zxj936935pr3dwn6772c0000gn/T/ipykernel_13038/2249352223.py:8: DeprecationWarning: ANTIALIAS is deprecated and will be removed in Pillow 10 (2023-07-01). Use Resampling.LANCZOS instead.\n",
      "  image = image.resize((width, height), Image.ANTIALIAS)\n"
     ]
    }
   ],
   "source": [
    "session_fp32 = onnxruntime.InferenceSession(\"mobilenet_v2_float.onnx\")\n",
    "\n",
    "def softmax(x):\n",
    "    \"\"\"Compute softmax values for each sets of scores in x.\"\"\"\n",
    "    e_x = np.exp(x - np.max(x))\n",
    "    return e_x / e_x.sum()\n",
    "\n",
    "def run_sample(session, image_file, categories):\n",
    "    output = session.run([], {'input':preprocess_image(image_file, image_height, image_width)})[0]\n",
    "    output = output.flatten()\n",
    "    output = softmax(output) # this is optional\n",
    "    top5_catid = np.argsort(-output)[:5]\n",
    "    for catid in top5_catid:\n",
    "        print(categories[catid], output[catid])\n",
    "\n",
    "run_sample(session_fp32, 'cat.jpg', categories)"
   ]
  },
  {
   "cell_type": "markdown",
   "metadata": {},
   "source": [
    "# 2 Quantize the model with ONNXRuntime \n",
    "In this step, we load the full precison model, and quantize it with ONNXRuntime quantization tool. And show the model size comparison between full precision and quantized model. Finally, we run the same sample with the quantized model"
   ]
  },
  {
   "cell_type": "markdown",
   "metadata": {},
   "source": [
    "## 2.1 Implement a CalibrationDataReader\n",
    "CalibrationDataReader takes in calibration data and generates input for the model"
   ]
  },
  {
   "cell_type": "code",
   "execution_count": 6,
   "metadata": {},
   "outputs": [],
   "source": [
    "from onnxruntime.quantization import quantize_static, CalibrationDataReader, QuantType\n",
    "import os\n",
    "\n",
    "def preprocess_func(images_folder, height, width, size_limit=0):\n",
    "    image_names = os.listdir(images_folder)\n",
    "    if size_limit > 0 and len(image_names) >= size_limit:\n",
    "        batch_filenames = [image_names[i] for i in range(size_limit)]\n",
    "    else:\n",
    "        batch_filenames = image_names\n",
    "    unconcatenated_batch_data = []\n",
    "\n",
    "    for image_name in batch_filenames:\n",
    "        image_filepath = images_folder + '/' + image_name\n",
    "        image_data = preprocess_image(image_filepath, height, width)\n",
    "        unconcatenated_batch_data.append(image_data)\n",
    "    batch_data = np.concatenate(np.expand_dims(unconcatenated_batch_data, axis=0), axis=0)\n",
    "    return batch_data\n",
    "\n",
    "\n",
    "class MobilenetDataReader(CalibrationDataReader):\n",
    "    def __init__(self, calibration_image_folder):\n",
    "        self.image_folder = calibration_image_folder\n",
    "        self.preprocess_flag = True\n",
    "        self.enum_data_dicts = []\n",
    "        self.datasize = 0\n",
    "\n",
    "    def get_next(self):\n",
    "        if self.preprocess_flag:\n",
    "            self.preprocess_flag = False\n",
    "            nhwc_data_list = preprocess_func(self.image_folder, image_height, image_width, size_limit=0)\n",
    "            self.datasize = len(nhwc_data_list)\n",
    "            self.enum_data_dicts = iter([{'input': nhwc_data} for nhwc_data in nhwc_data_list])\n",
    "        return next(self.enum_data_dicts, None)"
   ]
  },
  {
   "cell_type": "markdown",
   "metadata": {},
   "source": [
    "## 2.2 Quantize the model"
   ]
  },
  {
   "cell_type": "markdown",
   "metadata": {},
   "source": [
    "As we can not upload full calibration data set for copy right issue, we only demonstrate with some example images. You need to use your own calibration data set in practice."
   ]
  },
  {
   "cell_type": "code",
   "execution_count": 7,
   "metadata": {},
   "outputs": [
    {
     "name": "stderr",
     "output_type": "stream",
     "text": [
      "/var/folders/6z/7rs7zxj936935pr3dwn6772c0000gn/T/ipykernel_13038/2249352223.py:8: DeprecationWarning: ANTIALIAS is deprecated and will be removed in Pillow 10 (2023-07-01). Use Resampling.LANCZOS instead.\n",
      "  image = image.resize((width, height), Image.ANTIALIAS)\n"
     ]
    },
    {
     "name": "stdout",
     "output_type": "stream",
     "text": [
      "ONNX full precision model size (MB): 13.324143409729004\n",
      "ONNX quantized model size (MB): 3.417329788208008\n"
     ]
    }
   ],
   "source": [
    "# change it to your real calibration data set\n",
    "calibration_data_folder = \"calibration_imagenet\"\n",
    "dr = MobilenetDataReader(calibration_data_folder)\n",
    "\n",
    "quantize_static('mobilenet_v2_float.onnx',\n",
    "                'mobilenet_v2_uint8.onnx',\n",
    "                dr)\n",
    "\n",
    "print('ONNX full precision model size (MB):', os.path.getsize(\"mobilenet_v2_float.onnx\")/(1024*1024))\n",
    "print('ONNX quantized model size (MB):', os.path.getsize(\"mobilenet_v2_uint8.onnx\")/(1024*1024))"
   ]
  },
  {
   "cell_type": "markdown",
   "metadata": {},
   "source": [
    "## 2.3 Run the model with OnnxRuntime"
   ]
  },
  {
   "cell_type": "code",
   "execution_count": 8,
   "metadata": {},
   "outputs": [
    {
     "name": "stdout",
     "output_type": "stream",
     "text": [
      "tabby 0.84019744\n",
      "tiger cat 0.09355527\n",
      "Egyptian cat 0.056807544\n",
      "lynx 0.0031460503\n",
      "quilt 0.0012816631\n"
     ]
    },
    {
     "name": "stderr",
     "output_type": "stream",
     "text": [
      "2022-10-24 13:00:21.117990 [W:onnxruntime:, graph.cc:3211 CleanUnusedInitializers] Removing initializer 'onnx::Conv_689_quantized_zero_point'. It is not used by any node and should be removed from the model.\n",
      "2022-10-24 13:00:21.118083 [W:onnxruntime:, graph.cc:3211 CleanUnusedInitializers] Removing initializer 'onnx::Conv_686_quantized_zero_point'. It is not used by any node and should be removed from the model.\n",
      "2022-10-24 13:00:21.118103 [W:onnxruntime:, graph.cc:3211 CleanUnusedInitializers] Removing initializer 'onnx::Conv_686_quantized_scale'. It is not used by any node and should be removed from the model.\n",
      "2022-10-24 13:00:21.118132 [W:onnxruntime:, graph.cc:3211 CleanUnusedInitializers] Removing initializer 'onnx::Conv_683_quantized_zero_point'. It is not used by any node and should be removed from the model.\n",
      "2022-10-24 13:00:21.118150 [W:onnxruntime:, graph.cc:3211 CleanUnusedInitializers] Removing initializer 'onnx::Conv_683_quantized_scale'. It is not used by any node and shou/var/folders/6z/7rs7zxj936935pr3dwn6772c0000gn/T/ipykernel_13038/2249352223.py:8: DeprecationWarning: ANTIALIAS is deprecated and will be removed in Pillow 10 (2023-07-01). Use Resampling.LANCZOS instead.\n",
      "  image = image.resize((width, height), Image.ANTIALIAS)\n",
      "ld be removed from the model.\n",
      "2022-10-24 13:00:21.118168 [W:onnxruntime:, graph.cc:3211 CleanUnusedInitializers] Removing initializer 'onnx::Conv_680_quantized_zero_point'. It is not used by any node and should be removed from the model.\n",
      "2022-10-24 13:00:21.118185 [W:onnxruntime:, graph.cc:3211 CleanUnusedInitializers] Removing initializer 'onnx::Conv_680_quantized_scale'. It is not used by any node and should be removed from the model.\n",
      "2022-10-24 13:00:21.118203 [W:onnxruntime:, graph.cc:3211 CleanUnusedInitializers] Removing initializer 'onnx::Conv_674_quantized_zero_point'. It is not used by any node and should be removed from the model.\n",
      "2022-10-24 13:00:21.118221 [W:onnxruntime:, graph.cc:3211 CleanUnusedInitializers] Removing initializer 'onnx::Conv_671_quantized_zero_point'. It is not used by any node and should be removed from the model.\n",
      "2022-10-24 13:00:21.118238 [W:onnxruntime:, graph.cc:3211 CleanUnusedInitializers] Removing initializer 'onnx::Conv_668_quantized_scale'. It is not used by any node and should be removed from the model.\n",
      "2022-10-24 13:00:21.118269 [W:onnxruntime:, graph.cc:3211 CleanUnusedInitializers] Removing initializer 'onnx::Conv_665_quantized_scale'. It is not used by any node and should be removed from the model.\n",
      "2022-10-24 13:00:21.118287 [W:onnxruntime:, graph.cc:3211 CleanUnusedInitializers] Removing initializer 'onnx::Conv_677_quantized_scale'. It is not used by any node and should be removed from the model.\n",
      "2022-10-24 13:00:21.118355 [W:onnxruntime:, graph.cc:3211 CleanUnusedInitializers] Removing initializer 'onnx::Conv_662_quantized_zero_point'. It is not used by any node and should be removed from the model.\n",
      "2022-10-24 13:00:21.118377 [W:onnxruntime:, graph.cc:3211 CleanUnusedInitializers] Removing initializer 'onnx::Conv_659_quantized_zero_point'. It is not used by any node and should be removed from the model.\n",
      "2022-10-24 13:00:21.118394 [W:onnxruntime:, graph.cc:3211 CleanUnusedInitializers] Removing initializer 'onnx::Conv_659_quantized_scale'. It is not used by any node and should be removed from the model.\n",
      "2022-10-24 13:00:21.118411 [W:onnxruntime:, graph.cc:3211 CleanUnusedInitializers] Removing initializer 'onnx::Conv_656_quantized_zero_point'. It is not used by any node and should be removed from the model.\n",
      "2022-10-24 13:00:21.118428 [W:onnxruntime:, graph.cc:3211 CleanUnusedInitializers] Removing initializer 'onnx::Clip_359'. It is not used by any node and should be removed from the model.\n",
      "2022-10-24 13:00:21.118445 [W:onnxruntime:, graph.cc:3211 CleanUnusedInitializers] Removing initializer 'onnx::Conv_653_quantized_zero_point'. It is not used by any node and should be removed from the model.\n",
      "2022-10-24 13:00:21.118463 [W:onnxruntime:, graph.cc:3211 CleanUnusedInitializers] Removing initializer 'onnx::Conv_644_quantized_scale'. It is not used by any node and should be removed from the model.\n",
      "2022-10-24 13:00:21.118481 [W:onnxruntime:, graph.cc:3211 CleanUnusedInitializers] Removing initializer 'onnx::Conv_644_quantized_zero_point'. It is not used by any node and should be removed from the model.\n",
      "2022-10-24 13:00:21.118500 [W:onnxruntime:, graph.cc:3211 CleanUnusedInitializers] Removing initializer 'onnx::Conv_638_quantized_scale'. It is not used by any node and should be removed from the model.\n",
      "2022-10-24 13:00:21.118517 [W:onnxruntime:, graph.cc:3211 CleanUnusedInitializers] Removing initializer 'onnx::Clip_422'. It is not used by any node and should be removed from the model.\n",
      "2022-10-24 13:00:21.118547 [W:onnxruntime:, graph.cc:3211 CleanUnusedInitializers] Removing initializer 'onnx::Conv_635_quantized_zero_point'. It is not used by any node and should be removed from the model.\n",
      "2022-10-24 13:00:21.118617 [W:onnxruntime:, graph.cc:3211 CleanUnusedInitializers] Removing initializer 'onnx::Conv_635_quantized_scale'. It is not used by any node and should be removed from the model.\n",
      "2022-10-24 13:00:21.118636 [W:onnxruntime:, graph.cc:3211 CleanUnusedInitializers] Removing initializer 'onnx::Conv_692_quantized_scale'. It is not used by any node and should be removed from the model.\n",
      "2022-10-24 13:00:21.118655 [W:onnxruntime:, graph.cc:3211 CleanUnusedInitializers] Removing initializer 'onnx::Clip_506'. It is not used by any node and should be removed from the model.\n",
      "2022-10-24 13:00:21.118671 [W:onnxruntime:, graph.cc:3211 CleanUnusedInitializers] Removing initializer 'onnx::Conv_632_quantized_zero_point'. It is not used by any node and should be removed from the model.\n",
      "2022-10-24 13:00:21.118688 [W:onnxruntime:, graph.cc:3211 CleanUnusedInitializers] Removing initializer 'onnx::Conv_629_quantized_zero_point'. It is not used by any node and should be removed from the model.\n",
      "2022-10-24 13:00:21.118705 [W:onnxruntime:, graph.cc:3211 CleanUnusedInitializers] Removing initializer 'onnx::Conv_656_quantized_scale'. It is not used by any node and should be removed from the model.\n",
      "2022-10-24 13:00:21.118721 [W:onnxruntime:, graph.cc:3211 CleanUnusedInitializers] Removing initializer 'onnx::Conv_629_quantized_scale'. It is not used by any node and should be removed from the model.\n",
      "2022-10-24 13:00:21.118740 [W:onnxruntime:, graph.cc:3211 CleanUnusedInitializers] Removing initializer 'onnx::Clip_468'. It is not used by any node and should be removed from the model.\n",
      "2022-10-24 13:00:21.118757 [W:onnxruntime:, graph.cc:3211 CleanUnusedInitializers] Removing initializer 'onnx::Conv_611_quantized_scale'. It is not used by any node and should be removed from the model.\n",
      "2022-10-24 13:00:21.118849 [W:onnxruntime:, graph.cc:3211 CleanUnusedInitializers] Removing initializer 'onnx::Conv_623_quantized_zero_point'. It is not used by any node and should be removed from the model.\n",
      "2022-10-24 13:00:21.118871 [W:onnxruntime:, graph.cc:3211 CleanUnusedInitializers] Removing initializer 'onnx::Conv_620_quantized_zero_point'. It is not used by any node and should be removed from the model.\n",
      "2022-10-24 13:00:21.118889 [W:onnxruntime:, graph.cc:3211 CleanUnusedInitializers] Removing initializer 'onnx::Conv_620_quantized_scale'. It is not used by any node and should be removed from the model.\n",
      "2022-10-24 13:00:21.118906 [W:onnxruntime:, graph.cc:3211 CleanUnusedInitializers] Removing initializer 'onnx::Conv_599_quantized_zero_point'. It is not used by any node and should be removed from the model.\n",
      "2022-10-24 13:00:21.118924 [W:onnxruntime:, graph.cc:3211 CleanUnusedInitializers] Removing initializer 'onnx::Conv_617_quantized_scale'. It is not used by any node and should be removed from the model.\n",
      "2022-10-24 13:00:21.118941 [W:onnxruntime:, graph.cc:3211 CleanUnusedInitializers] Removing initializer 'onnx::Conv_614_quantized_zero_point'. It is not used by any node and should be removed from the model.\n",
      "2022-10-24 13:00:21.118958 [W:onnxruntime:, graph.cc:3211 CleanUnusedInitializers] Removing initializer 'onnx::Conv_557_quantized_scale'. It is not used by any node and should be removed from the model.\n",
      "2022-10-24 13:00:21.118975 [W:onnxruntime:, graph.cc:3211 CleanUnusedInitializers] Removing initializer 'onnx::Conv_671_quantized_scale'. It is not used by any node and should be removed from the model.\n",
      "2022-10-24 13:00:21.118992 [W:onnxruntime:, graph.cc:3211 CleanUnusedInitializers] Removing initializer 'onnx::Conv_641_quantized_scale'. It is not used by any node and should be removed from the model.\n",
      "2022-10-24 13:00:21.119014 [W:onnxruntime:, graph.cc:3211 CleanUnusedInitializers] Removing initializer 'onnx::Conv_563_quantized_zero_point'. It is not used by any node and should be removed from the model.\n",
      "2022-10-24 13:00:21.119032 [W:onnxruntime:, graph.cc:3211 CleanUnusedInitializers] Removing initializer 'onnx::Conv_605_quantized_scale'. It is not used by any node and should be removed from the model.\n",
      "2022-10-24 13:00:21.119048 [W:onnxruntime:, graph.cc:3211 CleanUnusedInitializers] Removing initializer 'onnx::Conv_608_quantized_zero_point'. It is not used by any node and should be removed from the model.\n",
      "2022-10-24 13:00:21.119078 [W:onnxruntime:, graph.cc:3211 CleanUnusedInitializers] Removing initializer 'onnx::Clip_372'. It is not used by any node and should be removed from the model.\n",
      "2022-10-24 13:00:21.119095 [W:onnxruntime:, graph.cc:3211 CleanUnusedInitializers] Removing initializer 'onnx::Conv_602_quantized_zero_point'. It is not used by any node and should be removed from the model.\n",
      "2022-10-24 13:00:21.119112 [W:onnxruntime:, graph.cc:3211 CleanUnusedInitializers] Removing initializer 'onnx::Conv_602_quantized_scale'. It is not used by any node and should be removed from the model.\n",
      "2022-10-24 13:00:21.119129 [W:onnxruntime:, graph.cc:3211 CleanUnusedInitializers] Removing initializer 'onnx::Conv_674_quantized_scale'. It is not used by any node and should be removed from the model.\n",
      "2022-10-24 13:00:21.119145 [W:onnxruntime:, graph.cc:3211 CleanUnusedInitializers] Removing initializer 'onnx::Conv_662_quantized_scale'. It is not used by any node and should be removed from the model.\n",
      "2022-10-24 13:00:21.119162 [W:onnxruntime:, graph.cc:3211 CleanUnusedInitializers] Removing initializer 'onnx::Conv_596_quantized_zero_point'. It is not used by any node and should be removed from the model.\n",
      "2022-10-24 13:00:21.119180 [W:onnxruntime:, graph.cc:3211 CleanUnusedInitializers] Removing initializer 'onnx::Conv_593_quantized_zero_point'. It is not used by any node and should be removed from the model.\n",
      "2022-10-24 13:00:21.119197 [W:onnxruntime:, graph.cc:3211 CleanUnusedInitializers] Removing initializer 'onnx::Conv_590_quantized_zero_point'. It is not used by any node and should be removed from the model.\n",
      "2022-10-24 13:00:21.119222 [W:onnxruntime:, graph.cc:3211 CleanUnusedInitializers] Removing initializer 'onnx::Conv_647_quantized_scale'. It is not used by any node and should be removed from the model.\n",
      "2022-10-24 13:00:21.119266 [W:onnxruntime:, graph.cc:3211 CleanUnusedInitializers] Removing initializer 'onnx::Conv_542_quantized_zero_point'. It is not used by any node and should be removed from the model.\n",
      "2022-10-24 13:00:21.119282 [W:onnxruntime:, graph.cc:3211 CleanUnusedInitializers] Removing initializer 'onnx::Conv_587_quantized_zero_point'. It is not used by any node and should be removed from the model.\n",
      "2022-10-24 13:00:21.119300 [W:onnxruntime:, graph.cc:3211 CleanUnusedInitializers] Removing initializer 'onnx::Clip_409'. It is not used by any node and should be removed from the model.\n",
      "2022-10-24 13:00:21.119316 [W:onnxruntime:, graph.cc:3211 CleanUnusedInitializers] Removing initializer 'onnx::Conv_596_quantized_scale'. It is not used by any node and should be removed from the model.\n",
      "2022-10-24 13:00:21.119332 [W:onnxruntime:, graph.cc:3211 CleanUnusedInitializers] Removing initializer 'onnx::Clip_423'. It is not used by any node and should be removed from the model.\n",
      "2022-10-24 13:00:21.119348 [W:onnxruntime:, graph.cc:3211 CleanUnusedInitializers] Removing initializer 'onnx::Conv_584_quantized_scale'. It is not used by any node and should be removed from the model.\n",
      "2022-10-24 13:00:21.119365 [W:onnxruntime:, graph.cc:3211 CleanUnusedInitializers] Removing initializer 'onnx::Conv_668_quantized_zero_point'. It is not used by any node and should be removed from the model.\n",
      "2022-10-24 13:00:21.119382 [W:onnxruntime:, graph.cc:3211 CleanUnusedInitializers] Removing initializer 'onnx::Conv_632_quantized_scale'. It is not used by any node and should be removed from the model.\n",
      "2022-10-24 13:00:21.119399 [W:onnxruntime:, graph.cc:3211 CleanUnusedInitializers] Removing initializer 'onnx::Conv_650_quantized_zero_point'. It is not used by any node and should be removed from the model.\n",
      "2022-10-24 13:00:21.119416 [W:onnxruntime:, graph.cc:3211 CleanUnusedInitializers] Removing initializer 'onnx::Conv_617_quantized_zero_point'. It is not used by any node and should be removed from the model.\n",
      "2022-10-24 13:00:21.119458 [W:onnxruntime:, graph.cc:3211 CleanUnusedInitializers] Removing initializer 'onnx::Conv_578_quantized_zero_point'. It is not used by any node and should be removed from the model.\n",
      "2022-10-24 13:00:21.119493 [W:onnxruntime:, graph.cc:3211 CleanUnusedInitializers] Removing initializer 'onnx::Clip_334'. It is not used by any node and should be removed from the model.\n",
      "2022-10-24 13:00:21.119517 [W:onnxruntime:, graph.cc:3211 CleanUnusedInitializers] Removing initializer 'onnx::Conv_554_quantized_scale'. It is not used by any node and should be removed from the model.\n",
      "2022-10-24 13:00:21.119534 [W:onnxruntime:, graph.cc:3211 CleanUnusedInitializers] Removing initializer 'onnx::Conv_587_quantized_scale'. It is not used by any node and should be removed from the model.\n",
      "2022-10-24 13:00:21.119551 [W:onnxruntime:, graph.cc:3211 CleanUnusedInitializers] Removing initializer 'onnx::Clip_379'. It is not used by any node and should be removed from the model.\n",
      "2022-10-24 13:00:21.119589 [W:onnxruntime:, graph.cc:3211 CleanUnusedInitializers] Removing initializer 'onnx::Conv_575_quantized_zero_point'. It is not used by any node and should be removed from the model.\n",
      "2022-10-24 13:00:21.119606 [W:onnxruntime:, graph.cc:3211 CleanUnusedInitializers] Removing initializer 'onnx::Conv_689_quantized_scale'. It is not used by any node and should be removed from the model.\n",
      "2022-10-24 13:00:21.119630 [W:onnxruntime:, graph.cc:3211 CleanUnusedInitializers] Removing initializer 'onnx::Conv_581_quantized_zero_point'. It is not used by any node and should be removed from the model.\n",
      "2022-10-24 13:00:21.119648 [W:onnxruntime:, graph.cc:3211 CleanUnusedInitializers] Removing initializer 'onnx::Clip_499'. It is not used by any node and should be removed from the model.\n",
      "2022-10-24 13:00:21.119663 [W:onnxruntime:, graph.cc:3211 CleanUnusedInitializers] Removing initializer 'onnx::Conv_572_quantized_zero_point'. It is not used by any node and should be removed from the model.\n",
      "2022-10-24 13:00:21.119680 [W:onnxruntime:, graph.cc:3211 CleanUnusedInitializers] Removing initializer 'onnx::Clip_448'. It is not used by any node and should be removed from the model.\n",
      "2022-10-24 13:00:21.119696 [W:onnxruntime:, graph.cc:3211 CleanUnusedInitializers] Removing initializer 'onnx::Conv_569_quantized_zero_point'. It is not used by any node and should be removed from the model.\n",
      "2022-10-24 13:00:21.119712 [W:onnxruntime:, graph.cc:3211 CleanUnusedInitializers] Removing initializer 'onnx::Conv_650_quantized_scale'. It is not used by any node and should be removed from the model.\n",
      "2022-10-24 13:00:21.119728 [W:onnxruntime:, graph.cc:3211 CleanUnusedInitializers] Removing initializer 'onnx::Clip_469'. It is not used by any node and should be removed from the model.\n",
      "2022-10-24 13:00:21.119744 [W:onnxruntime:, graph.cc:3211 CleanUnusedInitializers] Removing initializer 'onnx::Conv_581_quantized_scale'. It is not used by any node and should be removed from the model.\n",
      "2022-10-24 13:00:21.119761 [W:onnxruntime:, graph.cc:3211 CleanUnusedInitializers] Removing initializer 'onnx::Conv_653_quantized_scale'. It is not used by any node and should be removed from the model.\n",
      "2022-10-24 13:00:21.119777 [W:onnxruntime:, graph.cc:3211 CleanUnusedInitializers] Removing initializer 'onnx::Conv_566_quantized_zero_point'. It is not used by any node and should be removed from the model.\n",
      "2022-10-24 13:00:21.119794 [W:onnxruntime:, graph.cc:3211 CleanUnusedInitializers] Removing initializer 'onnx::Conv_605_quantized_zero_point'. It is not used by any node and should be removed from the model.\n",
      "2022-10-24 13:00:21.119827 [W:onnxruntime:, graph.cc:3211 CleanUnusedInitializers] Removing initializer 'onnx::Clip_487'. It is not used by any node and should be removed from the model.\n",
      "2022-10-24 13:00:21.119844 [W:onnxruntime:, graph.cc:3211 CleanUnusedInitializers] Removing initializer 'onnx::Clip_494'. It is not used by any node and should be removed from the model.\n",
      "2022-10-24 13:00:21.119860 [W:onnxruntime:, graph.cc:3211 CleanUnusedInitializers] Removing initializer 'onnx::Clip_360'. It is not used by any node and should be removed from the model.\n",
      "2022-10-24 13:00:21.119875 [W:onnxruntime:, graph.cc:3211 CleanUnusedInitializers] Removing initializer 'onnx::Conv_563_quantized_scale'. It is not used by any node and should be removed from the model.\n",
      "2022-10-24 13:00:21.119893 [W:onnxruntime:, graph.cc:3211 CleanUnusedInitializers] Removing initializer 'onnx::Clip_329'. It is not used by any node and should be removed from the model.\n",
      "2022-10-24 13:00:21.119947 [W:onnxruntime:, graph.cc:3211 CleanUnusedInitializers] Removing initializer 'onnx::Conv_539_quantized_zero_point'. It is not used by any node and should be removed from the model.\n",
      "2022-10-24 13:00:21.119964 [W:onnxruntime:, graph.cc:3211 CleanUnusedInitializers] Removing initializer 'onnx::Clip_460'. It is not used by any node and should be removed from the model.\n",
      "2022-10-24 13:00:21.119981 [W:onnxruntime:, graph.cc:3211 CleanUnusedInitializers] Removing initializer 'onnx::Conv_557_quantized_zero_point'. It is not used by any node and should be removed from the model.\n",
      "2022-10-24 13:00:21.120023 [W:onnxruntime:, graph.cc:3211 CleanUnusedInitializers] Removing initializer 'onnx::Conv_578_quantized_scale'. It is not used by any node and should be removed from the model.\n",
      "2022-10-24 13:00:21.120045 [W:onnxruntime:, graph.cc:3211 CleanUnusedInitializers] Removing initializer 'onnx::Conv_566_quantized_scale'. It is not used by any node and should be removed from the model.\n",
      "2022-10-24 13:00:21.120063 [W:onnxruntime:, graph.cc:3211 CleanUnusedInitializers] Removing initializer 'onnx::Conv_554_quantized_zero_point'. It is not used by any node and should be removed from the model.\n",
      "2022-10-24 13:00:21.120080 [W:onnxruntime:, graph.cc:3211 CleanUnusedInitializers] Removing initializer 'onnx::Clip_481'. It is not used by any node and should be removed from the model.\n",
      "2022-10-24 13:00:21.120097 [W:onnxruntime:, graph.cc:3211 CleanUnusedInitializers] Removing initializer 'onnx::Conv_677_quantized_zero_point'. It is not used by any node and should be removed from the model.\n",
      "2022-10-24 13:00:21.120114 [W:onnxruntime:, graph.cc:3211 CleanUnusedInitializers] Removing initializer 'onnx::Conv_638_quantized_zero_point'. It is not used by any node and should be removed from the model.\n",
      "2022-10-24 13:00:21.120164 [W:onnxruntime:, graph.cc:3211 CleanUnusedInitializers] Removing initializer 'onnx::Clip_335'. It is not used by any node and should be removed from the model.\n",
      "2022-10-24 13:00:21.120183 [W:onnxruntime:, graph.cc:3211 CleanUnusedInitializers] Removing initializer 'onnx::Conv_551_quantized_zero_point'. It is not used by any node and should be removed from the model.\n",
      "2022-10-24 13:00:21.120199 [W:onnxruntime:, graph.cc:3211 CleanUnusedInitializers] Removing initializer 'onnx::Conv_584_quantized_zero_point'. It is not used by any node and should be removed from the model.\n",
      "2022-10-24 13:00:21.120216 [W:onnxruntime:, graph.cc:3211 CleanUnusedInitializers] Removing initializer 'onnx::Conv_551_quantized_scale'. It is not used by any node and should be removed from the model.\n",
      "2022-10-24 13:00:21.120292 [W:onnxruntime:, graph.cc:3211 CleanUnusedInitializers] Removing initializer 'onnx::Clip_430'. It is not used by any node and should be removed from the model.\n",
      "2022-10-24 13:00:21.120403 [W:onnxruntime:, graph.cc:3211 CleanUnusedInitializers] Removing initializer 'onnx::Conv_572_quantized_scale'. It is not used by any node and should be removed from the model.\n",
      "2022-10-24 13:00:21.120423 [W:onnxruntime:, graph.cc:3211 CleanUnusedInitializers] Removing initializer 'onnx::Conv_611_quantized_zero_point'. It is not used by any node and should be removed from the model.\n",
      "2022-10-24 13:00:21.120440 [W:onnxruntime:, graph.cc:3211 CleanUnusedInitializers] Removing initializer 'onnx::Clip_366'. It is not used by any node and should be removed from the model.\n",
      "2022-10-24 13:00:21.120457 [W:onnxruntime:, graph.cc:3211 CleanUnusedInitializers] Removing initializer 'onnx::Conv_593_quantized_scale'. It is not used by any node and should be removed from the model.\n",
      "2022-10-24 13:00:21.120482 [W:onnxruntime:, graph.cc:3211 CleanUnusedInitializers] Removing initializer 'onnx::Conv_548_quantized_scale'. It is not used by any node and should be removed from the model.\n",
      "2022-10-24 13:00:21.120527 [W:onnxruntime:, graph.cc:3211 CleanUnusedInitializers] Removing initializer 'onnx::Clip_380'. It is not used by any node and should be removed from the model.\n",
      "2022-10-24 13:00:21.120544 [W:onnxruntime:, graph.cc:3211 CleanUnusedInitializers] Removing initializer 'onnx::Clip_531'. It is not used by any node and should be removed from the model.\n",
      "2022-10-24 13:00:21.120560 [W:onnxruntime:, graph.cc:3211 CleanUnusedInitializers] Removing initializer 'onnx::Clip_398'. It is not used by any node and should be removed from the model.\n",
      "2022-10-24 13:00:21.120576 [W:onnxruntime:, graph.cc:3211 CleanUnusedInitializers] Removing initializer 'onnx::Conv_545_quantized_scale'. It is not used by any node and should be removed from the model.\n",
      "2022-10-24 13:00:21.120592 [W:onnxruntime:, graph.cc:3211 CleanUnusedInitializers] Removing initializer 'onnx::Conv_560_quantized_scale'. It is not used by any node and should be removed from the model.\n",
      "2022-10-24 13:00:21.120609 [W:onnxruntime:, graph.cc:3211 CleanUnusedInitializers] Removing initializer 'onnx::Conv_548_quantized_zero_point'. It is not used by any node and should be removed from the model.\n",
      "2022-10-24 13:00:21.120625 [W:onnxruntime:, graph.cc:3211 CleanUnusedInitializers] Removing initializer 'onnx::Conv_626_quantized_scale'. It is not used by any node and should be removed from the model.\n",
      "2022-10-24 13:00:21.120642 [W:onnxruntime:, graph.cc:3211 CleanUnusedInitializers] Removing initializer 'onnx::Conv_614_quantized_scale'. It is not used by any node and should be removed from the model.\n",
      "2022-10-24 13:00:21.120659 [W:onnxruntime:, graph.cc:3211 CleanUnusedInitializers] Removing initializer 'onnx::Clip_435'. It is not used by any node and should be removed from the model.\n",
      "2022-10-24 13:00:21.120675 [W:onnxruntime:, graph.cc:3211 CleanUnusedInitializers] Removing initializer 'onnx::Conv_542_quantized_scale'. It is not used by any node and should be removed from the model.\n",
      "2022-10-24 13:00:21.120691 [W:onnxruntime:, graph.cc:3211 CleanUnusedInitializers] Removing initializer 'onnx::Clip_404'. It is not used by any node and should be removed from the model.\n",
      "2022-10-24 13:00:21.120724 [W:onnxruntime:, graph.cc:3211 CleanUnusedInitializers] Removing initializer 'onnx::Conv_647_quantized_zero_point'. It is not used by any node and should be removed from the model.\n",
      "2022-10-24 13:00:21.120804 [W:onnxruntime:, graph.cc:3211 CleanUnusedInitializers] Removing initializer 'onnx::Conv_641_quantized_zero_point'. It is not used by any node and should be removed from the model.\n",
      "2022-10-24 13:00:21.120823 [W:onnxruntime:, graph.cc:3211 CleanUnusedInitializers] Removing initializer 'onnx::Clip_384'. It is not used by any node and should be removed from the model.\n",
      "2022-10-24 13:00:21.120839 [W:onnxruntime:, graph.cc:3211 CleanUnusedInitializers] Removing initializer 'onnx::Clip_371'. It is not used by any node and should be removed from the model.\n",
      "2022-10-24 13:00:21.120855 [W:onnxruntime:, graph.cc:3211 CleanUnusedInitializers] Removing initializer 'onnx::Conv_623_quantized_scale'. It is not used by any node and should be removed from the model.\n",
      "2022-10-24 13:00:21.120889 [W:onnxruntime:, graph.cc:3211 CleanUnusedInitializers] Removing initializer 'onnx::Conv_608_quantized_scale'. It is not used by any node and should be removed from the model.\n",
      "2022-10-24 13:00:21.120952 [W:onnxruntime:, graph.cc:3211 CleanUnusedInitializers] Removing initializer 'onnx::Clip_444'. It is not used by any node and should be removed from the model.\n",
      "2022-10-24 13:00:21.120970 [W:onnxruntime:, graph.cc:3211 CleanUnusedInitializers] Removing initializer 'onnx::Conv_539_quantized_scale'. It is not used by any node and should be removed from the model.\n",
      "2022-10-24 13:00:21.120987 [W:onnxruntime:, graph.cc:3211 CleanUnusedInitializers] Removing initializer 'onnx::Clip_493'. It is not used by any node and should be removed from the model.\n",
      "2022-10-24 13:00:21.121008 [W:onnxruntime:, graph.cc:3211 CleanUnusedInitializers] Removing initializer 'onnx::Clip_532'. It is not used by any node and should be removed from the model.\n",
      "2022-10-24 13:00:21.121024 [W:onnxruntime:, graph.cc:3211 CleanUnusedInitializers] Removing initializer 'onnx::Clip_525'. It is not used by any node and should be removed from the model.\n",
      "2022-10-24 13:00:21.121048 [W:onnxruntime:, graph.cc:3211 CleanUnusedInitializers] Removing initializer 'onnx::Clip_524'. It is not used by any node and should be removed from the model.\n",
      "2022-10-24 13:00:21.121102 [W:onnxruntime:, graph.cc:3211 CleanUnusedInitializers] Removing initializer 'onnx::Clip_511'. It is not used by any node and should be removed from the model.\n",
      "2022-10-24 13:00:21.121121 [W:onnxruntime:, graph.cc:3211 CleanUnusedInitializers] Removing initializer 'onnx::Clip_318'. It is not used by any node and should be removed from the model.\n",
      "2022-10-24 13:00:21.121137 [W:onnxruntime:, graph.cc:3211 CleanUnusedInitializers] Removing initializer 'onnx::Clip_507'. It is not used by any node and should be removed from the model.\n",
      "2022-10-24 13:00:21.121181 [W:onnxruntime:, graph.cc:3211 CleanUnusedInitializers] Removing initializer 'onnx::Clip_397'. It is not used by any node and should be removed from the model.\n",
      "2022-10-24 13:00:21.121223 [W:onnxruntime:, graph.cc:3211 CleanUnusedInitializers] Removing initializer 'onnx::Clip_486'. It is not used by any node and should be removed from the model.\n",
      "2022-10-24 13:00:21.121241 [W:onnxruntime:, graph.cc:3211 CleanUnusedInitializers] Removing initializer 'onnx::Clip_482'. It is not used by any node and should be removed from the model.\n",
      "2022-10-24 13:00:21.121257 [W:onnxruntime:, graph.cc:3211 CleanUnusedInitializers] Removing initializer 'onnx::Clip_449'. It is not used by any node and should be removed from the model.\n",
      "2022-10-24 13:00:21.121272 [W:onnxruntime:, graph.cc:3211 CleanUnusedInitializers] Removing initializer 'onnx::Clip_474'. It is not used by any node and should be removed from the model.\n",
      "2022-10-24 13:00:21.121288 [W:onnxruntime:, graph.cc:3211 CleanUnusedInitializers] Removing initializer 'onnx::Clip_355'. It is not used by any node and should be removed from the model.\n",
      "2022-10-24 13:00:21.121412 [W:onnxruntime:, graph.cc:3211 CleanUnusedInitializers] Removing initializer 'onnx::Clip_473'. It is not used by any node and should be removed from the model.\n",
      "2022-10-24 13:00:21.121429 [W:onnxruntime:, graph.cc:3211 CleanUnusedInitializers] Removing initializer 'onnx::Clip_436'. It is not used by any node and should be removed from the model.\n",
      "2022-10-24 13:00:21.121445 [W:onnxruntime:, graph.cc:3211 CleanUnusedInitializers] Removing initializer 'onnx::Clip_461'. It is not used by any node and should be removed from the model.\n",
      "2022-10-24 13:00:21.121487 [W:onnxruntime:, graph.cc:3211 CleanUnusedInitializers] Removing initializer 'onnx::Clip_520'. It is not used by any node and should be removed from the model.\n",
      "2022-10-24 13:00:21.121512 [W:onnxruntime:, graph.cc:3211 CleanUnusedInitializers] Removing initializer 'onnx::Clip_456'. It is not used by any node and should be removed from the model.\n",
      "2022-10-24 13:00:21.121528 [W:onnxruntime:, graph.cc:3211 CleanUnusedInitializers] Removing initializer 'onnx::Conv_575_quantized_scale'. It is not used by any node and should be removed from the model.\n",
      "2022-10-24 13:00:21.121546 [W:onnxruntime:, graph.cc:3211 CleanUnusedInitializers] Removing initializer 'onnx::Clip_346'. It is not used by any node and should be removed from the model.\n",
      "2022-10-24 13:00:21.121562 [W:onnxruntime:, graph.cc:3211 CleanUnusedInitializers] Removing initializer 'onnx::Clip_405'. It is not used by any node and should be removed from the model.\n",
      "2022-10-24 13:00:21.121578 [W:onnxruntime:, graph.cc:3211 CleanUnusedInitializers] Removing initializer 'onnx::Clip_418'. It is not used by any node and should be removed from the model.\n",
      "2022-10-24 13:00:21.121594 [W:onnxruntime:, graph.cc:3211 CleanUnusedInitializers] Removing initializer 'onnx::Clip_417'. It is not used by any node and should be removed from the model.\n",
      "2022-10-24 13:00:21.121610 [W:onnxruntime:, graph.cc:3211 CleanUnusedInitializers] Removing initializer 'onnx::Clip_455'. It is not used by any node and should be removed from the model.\n",
      "2022-10-24 13:00:21.121635 [W:onnxruntime:, graph.cc:3211 CleanUnusedInitializers] Removing initializer 'onnx::Conv_560_quantized_zero_point'. It is not used by any node and should be removed from the model.\n",
      "2022-10-24 13:00:21.121658 [W:onnxruntime:, graph.cc:3211 CleanUnusedInitializers] Removing initializer 'onnx::Clip_330'. It is not used by any node and should be removed from the model.\n",
      "2022-10-24 13:00:21.121734 [W:onnxruntime:, graph.cc:3211 CleanUnusedInitializers] Removing initializer 'onnx::Clip_392'. It is not used by any node and should be removed from the model.\n",
      "2022-10-24 13:00:21.121749 [W:onnxruntime:, graph.cc:3211 CleanUnusedInitializers] Removing initializer 'onnx::Clip_385'. It is not used by any node and should be removed from the model.\n",
      "2022-10-24 13:00:21.121765 [W:onnxruntime:, graph.cc:3211 CleanUnusedInitializers] Removing initializer 'onnx::Conv_599_quantized_scale'. It is not used by any node and should be removed from the model.\n",
      "2022-10-24 13:00:21.121782 [W:onnxruntime:, graph.cc:3211 CleanUnusedInitializers] Removing initializer 'onnx::Conv_665_quantized_zero_point'. It is not used by any node and should be removed from the model.\n",
      "2022-10-24 13:00:21.121820 [W:onnxruntime:, graph.cc:3211 CleanUnusedInitializers] Removing initializer 'onnx::Conv_545_quantized_zero_point'. It is not used by any node and should be removed from the model.\n",
      "2022-10-24 13:00:21.121836 [W:onnxruntime:, graph.cc:3211 CleanUnusedInitializers] Removing initializer 'onnx::Conv_692_quantized_zero_point'. It is not used by any node and should be removed from the model.\n",
      "2022-10-24 13:00:21.121862 [W:onnxruntime:, graph.cc:3211 CleanUnusedInitializers] Removing initializer 'onnx::Clip_342'. It is not used by any node and should be removed from the model.\n",
      "2022-10-24 13:00:21.121896 [W:onnxruntime:, graph.cc:3211 CleanUnusedInitializers] Removing initializer 'onnx::Clip_410'. It is not used by any node and should be removed from the model.\n",
      "2022-10-24 13:00:21.121912 [W:onnxruntime:, graph.cc:3211 CleanUnusedInitializers] Removing initializer 'onnx::Clip_431'. It is not used by any node and should be removed from the model.\n",
      "2022-10-24 13:00:21.121928 [W:onnxruntime:, graph.cc:3211 CleanUnusedInitializers] Removing initializer 'onnx::Clip_498'. It is not used by any node and should be removed from the model.\n",
      "2022-10-24 13:00:21.121943 [W:onnxruntime:, graph.cc:3211 CleanUnusedInitializers] Removing initializer 'onnx::Clip_393'. It is not used by any node and should be removed from the model.\n",
      "2022-10-24 13:00:21.121958 [W:onnxruntime:, graph.cc:3211 CleanUnusedInitializers] Removing initializer 'onnx::Conv_569_quantized_scale'. It is not used by any node and should be removed from the model.\n",
      "2022-10-24 13:00:21.121975 [W:onnxruntime:, graph.cc:3211 CleanUnusedInitializers] Removing initializer 'onnx::Clip_317'. It is not used by any node and should be removed from the model.\n",
      "2022-10-24 13:00:21.121991 [W:onnxruntime:, graph.cc:3211 CleanUnusedInitializers] Removing initializer 'onnx::Clip_323'. It is not used by any node and should be removed from the model.\n",
      "2022-10-24 13:00:21.122007 [W:onnxruntime:, graph.cc:3211 CleanUnusedInitializers] Removing initializer 'onnx::Clip_341'. It is not used by any node and should be removed from the model.\n",
      "2022-10-24 13:00:21.122022 [W:onnxruntime:, graph.cc:3211 CleanUnusedInitializers] Removing initializer 'onnx::Clip_347'. It is not used by any node and should be removed from the model.\n",
      "2022-10-24 13:00:21.122038 [W:onnxruntime:, graph.cc:3211 CleanUnusedInitializers] Removing initializer 'onnx::Clip_354'. It is not used by any node and should be removed from the model.\n",
      "2022-10-24 13:00:21.122053 [W:onnxruntime:, graph.cc:3211 CleanUnusedInitializers] Removing initializer 'onnx::Conv_590_quantized_scale'. It is not used by any node and should be removed from the model.\n",
      "2022-10-24 13:00:21.122069 [W:onnxruntime:, graph.cc:3211 CleanUnusedInitializers] Removing initializer 'onnx::Clip_512'. It is not used by any node and should be removed from the model.\n",
      "2022-10-24 13:00:21.122085 [W:onnxruntime:, graph.cc:3211 CleanUnusedInitializers] Removing initializer 'onnx::Conv_626_quantized_zero_point'. It is not used by any node and should be removed from the model.\n",
      "2022-10-24 13:00:21.122101 [W:onnxruntime:, graph.cc:3211 CleanUnusedInitializers] Removing initializer 'onnx::Clip_367'. It is not used by any node and should be removed from the model.\n",
      "2022-10-24 13:00:21.122117 [W:onnxruntime:, graph.cc:3211 CleanUnusedInitializers] Removing initializer 'onnx::Clip_443'. It is not used by any node and should be removed from the model.\n",
      "2022-10-24 13:00:21.122133 [W:onnxruntime:, graph.cc:3211 CleanUnusedInitializers] Removing initializer 'onnx::Clip_519'. It is not used by any node and should be removed from the model.\n",
      "2022-10-24 13:00:21.122148 [W:onnxruntime:, graph.cc:3211 CleanUnusedInitializers] Removing initializer 'onnx::Clip_322'. It is not used by any node and should be removed from the model.\n"
     ]
    }
   ],
   "source": [
    "session_quant = onnxruntime.InferenceSession(\"mobilenet_v2_uint8.onnx\")\n",
    "run_sample(session_quant, 'cat.jpg', categories)"
   ]
  },
  {
   "cell_type": "markdown",
   "metadata": {},
   "source": [
    "# 3 Convert the models to ORT format"
   ]
  },
  {
   "cell_type": "markdown",
   "metadata": {},
   "source": [
    "This step is optional, we will convert the `mobilenet_v2_float.onnx` and `mobilenet_v2_uint8.onnx` to ORT format, to be used in mobile applications.\n",
    "\n",
    "If you intend to run these models using ONNXRuntime Mobile Execution Providers such as [NNAPI Execution Provider](https://www.onnxruntime.ai/docs/reference/execution-providers/NNAPI-ExecutionProvider.html) or [CoreML Execution Provider](https://www.onnxruntime.ai/docs/reference/execution-providers/CoreML-ExecutionProvider.html), please set the `optimization_level` of the conversion to `basic`. If you intend to run these models using CPU only, please set the `optimization_level` of the conversion to `all`. \n",
    "\n",
    "For further details, please see [Converting ONNX models to ORT format](https://www.onnxruntime.ai/docs/how-to/mobile/model-conversion.html)."
   ]
  },
  {
   "cell_type": "code",
   "execution_count": 15,
   "metadata": {},
   "outputs": [
    {
     "name": "stdout",
     "output_type": "stream",
     "text": [
      "2022-10-18 00:00:41.113540 [E:onnxruntime:Default, provider_bridge_ort.cc:902 Ensure] Failed to load library libonnxruntime_providers_shared.dylib with error: dlopen(libonnxruntime_providers_shared.dylib, 0x000A): tried: '/Users/paulkoomey/opt/anaconda3/envs/cpu_env/lib/python3.8/site-packages/onnxruntime/capi/libonnxruntime_providers_shared.dylib' (no such file), '/Users/paulkoomey/opt/anaconda3/envs/cpu_env/lib/libonnxruntime_providers_shared.dylib' (no such file), '/Users/paulkoomey/opt/anaconda3/envs/cpu_env/bin/../lib/libonnxruntime_providers_shared.dylib' (no such file), 'libonnxruntime_providers_shared.dylib' (no such file), '/usr/local/lib/libonnxruntime_providers_shared.dylib' (no such file), '/usr/lib/libonnxruntime_providers_shared.dylib' (no such file), '/Users/paulkoomey/Desktop/Life/UTA/2022 Fall/CSE 4391/onyx-model/onnxruntime-inference-examples/quantization/notebooks/imagenet_v2/libonnxruntime_providers_shared.dylib' (no such file)\n",
      "2022-10-18 00:00:41.113574 [W:onnxruntime:Default, onnxruntime_pybind_state.cc:1615 pybind11_init_onnxruntime_pybind11_state] Init provider bridge failed.\n",
      "Converting optimized ONNX model /Users/paulkoomey/Desktop/Life/UTA/2022 Fall/CSE 4391/onyx-model/onnxruntime-inference-examples/quantization/notebooks/imagenet_v2/mobilenet_v2_uint8.onnx to ORT format model /Users/paulkoomey/Desktop/Life/UTA/2022 Fall/CSE 4391/onyx-model/onnxruntime-inference-examples/quantization/notebooks/imagenet_v2/mobilenet_v2_uint8.basic.ort\n",
      "2022-10-18 00:00:41.143834 [W:onnxruntime:, graph.cc:3211 CleanUnusedInitializers] Removing initializer '696_quantized_zero_point'. It is not used by any node and should be removed from the model.\n",
      "2022-10-18 00:00:41.143863 [W:onnxruntime:, graph.cc:3211 CleanUnusedInitializers] Removing initializer '693_quantized_scale'. It is not used by any node and should be removed from the model.\n",
      "2022-10-18 00:00:41.143871 [W:onnxruntime:, graph.cc:3211 CleanUnusedInitializers] Removing initializer '690_quantized_scale'. It is not used by any node and should be removed from the model.\n",
      "2022-10-18 00:00:41.143878 [W:onnxruntime:, graph.cc:3211 CleanUnusedInitializers] Removing initializer '687_quantized_zero_point'. It is not used by any node and should be removed from the model.\n",
      "2022-10-18 00:00:41.143885 [W:onnxruntime:, graph.cc:3211 CleanUnusedInitializers] Removing initializer '687_quantized_scale'. It is not used by any node and should be removed from the model.\n",
      "2022-10-18 00:00:41.143892 [W:onnxruntime:, graph.cc:3211 CleanUnusedInitializers] Removing initializer '684_quantized_scale'. It is not used by any node and should be removed from the model.\n",
      "2022-10-18 00:00:41.143908 [W:onnxruntime:, graph.cc:3211 CleanUnusedInitializers] Removing initializer '678_quantized_zero_point'. It is not used by any node and should be removed from the model.\n",
      "2022-10-18 00:00:41.143915 [W:onnxruntime:, graph.cc:3211 CleanUnusedInitializers] Removing initializer '678_quantized_scale'. It is not used by any node and should be removed from the model.\n",
      "2022-10-18 00:00:41.143922 [W:onnxruntime:, graph.cc:3211 CleanUnusedInitializers] Removing initializer '699_quantized_zero_point'. It is not used by any node and should be removed from the model.\n",
      "2022-10-18 00:00:41.143929 [W:onnxruntime:, graph.cc:3211 CleanUnusedInitializers] Removing initializer '675_quantized_zero_point'. It is not used by any node and should be removed from the model.\n",
      "2022-10-18 00:00:41.143937 [W:onnxruntime:, graph.cc:3211 CleanUnusedInitializers] Removing initializer '669_quantized_zero_point'. It is not used by any node and should be removed from the model.\n",
      "2022-10-18 00:00:41.144164 [W:onnxruntime:, graph.cc:3211 CleanUnusedInitializers] Removing initializer '699_quantized_scale'. It is not used by any node and should be removed from the model.\n",
      "2022-10-18 00:00:41.144179 [W:onnxruntime:, graph.cc:3211 CleanUnusedInitializers] Removing initializer '663_quantized_zero_point'. It is not used by any node and should be removed from the model.\n",
      "2022-10-18 00:00:41.144187 [W:onnxruntime:, graph.cc:3211 CleanUnusedInitializers] Removing initializer '520'. It is not used by any node and should be removed from the model.\n",
      "2022-10-18 00:00:41.144194 [W:onnxruntime:, graph.cc:3211 CleanUnusedInitializers] Removing initializer '660_quantized_zero_point'. It is not used by any node and should be removed from the model.\n",
      "2022-10-18 00:00:41.144201 [W:onnxruntime:, graph.cc:3211 CleanUnusedInitializers] Removing initializer '660_quantized_scale'. It is not used by any node and should be removed from the model.\n",
      "2022-10-18 00:00:41.144209 [W:onnxruntime:, graph.cc:3211 CleanUnusedInitializers] Removing initializer '675_quantized_scale'. It is not used by any node and should be removed from the model.\n",
      "2022-10-18 00:00:41.144721 [W:onnxruntime:, graph.cc:3211 CleanUnusedInitializers] Removing initializer '654_quantized_zero_point'. It is not used by any node and should be removed from the model.\n",
      "2022-10-18 00:00:41.144735 [W:onnxruntime:, graph.cc:3211 CleanUnusedInitializers] Removing initializer '455'. It is not used by any node and should be removed from the model.\n",
      "2022-10-18 00:00:41.144743 [W:onnxruntime:, graph.cc:3211 CleanUnusedInitializers] Removing initializer '657_quantized_zero_point'. It is not used by any node and should be removed from the model.\n",
      "2022-10-18 00:00:41.144750 [W:onnxruntime:, graph.cc:3211 CleanUnusedInitializers] Removing initializer '651_quantized_zero_point'. It is not used by any node and should be removed from the model.\n",
      "2022-10-18 00:00:41.144867 [W:onnxruntime:, graph.cc:3211 CleanUnusedInitializers] Removing initializer '657_quantized_scale'. It is not used by any node and should be removed from the model.\n",
      "2022-10-18 00:00:41.144875 [W:onnxruntime:, graph.cc:3211 CleanUnusedInitializers] Removing initializer '430'. It is not used by any node and should be removed from the model.\n",
      "2022-10-18 00:00:41.144882 [W:onnxruntime:, graph.cc:3211 CleanUnusedInitializers] Removing initializer '645_quantized_zero_point'. It is not used by any node and should be removed from the model.\n",
      "2022-10-18 00:00:41.144889 [W:onnxruntime:, graph.cc:3211 CleanUnusedInitializers] Removing initializer '585_quantized_zero_point'. It is not used by any node and should be removed from the model.\n",
      "2022-10-18 00:00:41.144897 [W:onnxruntime:, graph.cc:3211 CleanUnusedInitializers] Removing initializer '486'. It is not used by any node and should be removed from the model.\n",
      "2022-10-18 00:00:41.144904 [W:onnxruntime:, graph.cc:3211 CleanUnusedInitializers] Removing initializer '329'. It is not used by any node and should be removed from the model.\n",
      "2022-10-18 00:00:41.144911 [W:onnxruntime:, graph.cc:3211 CleanUnusedInitializers] Removing initializer '630_quantized_scale'. It is not used by any node and should be removed from the model.\n",
      "2022-10-18 00:00:41.144917 [W:onnxruntime:, graph.cc:3211 CleanUnusedInitializers] Removing initializer '474'. It is not used by any node and should be removed from the model.\n",
      "2022-10-18 00:00:41.144924 [W:onnxruntime:, graph.cc:3211 CleanUnusedInitializers] Removing initializer '606_quantized_scale'. It is not used by any node and should be removed from the model.\n",
      "2022-10-18 00:00:41.144931 [W:onnxruntime:, graph.cc:3211 CleanUnusedInitializers] Removing initializer '481'. It is not used by any node and should be removed from the model.\n",
      "2022-10-18 00:00:41.144937 [W:onnxruntime:, graph.cc:3211 CleanUnusedInitializers] Removing initializer '627_quantized_zero_point'. It is not used by any node and should be removed from the model.\n",
      "2022-10-18 00:00:41.145075 [W:onnxruntime:, graph.cc:3211 CleanUnusedInitializers] Removing initializer '627_quantized_scale'. It is not used by any node and should be removed from the model.\n",
      "2022-10-18 00:00:41.145085 [W:onnxruntime:, graph.cc:3211 CleanUnusedInitializers] Removing initializer '404'. It is not used by any node and should be removed from the model.\n",
      "2022-10-18 00:00:41.145092 [W:onnxruntime:, graph.cc:3211 CleanUnusedInitializers] Removing initializer '621_quantized_scale'. It is not used by any node and should be removed from the model.\n",
      "2022-10-18 00:00:41.145099 [W:onnxruntime:, graph.cc:3211 CleanUnusedInitializers] Removing initializer '597_quantized_zero_point'. It is not used by any node and should be removed from the model.\n",
      "2022-10-18 00:00:41.145106 [W:onnxruntime:, graph.cc:3211 CleanUnusedInitializers] Removing initializer '642_quantized_zero_point'. It is not used by any node and should be removed from the model.\n",
      "2022-10-18 00:00:41.145178 [W:onnxruntime:, graph.cc:3211 CleanUnusedInitializers] Removing initializer '615_quantized_scale'. It is not used by any node and should be removed from the model.\n",
      "2022-10-18 00:00:41.145194 [W:onnxruntime:, graph.cc:3211 CleanUnusedInitializers] Removing initializer '666_quantized_zero_point'. It is not used by any node and should be removed from the model.\n",
      "2022-10-18 00:00:41.145203 [W:onnxruntime:, graph.cc:3211 CleanUnusedInitializers] Removing initializer '612_quantized_scale'. It is not used by any node and should be removed from the model.\n",
      "2022-10-18 00:00:41.145210 [W:onnxruntime:, graph.cc:3211 CleanUnusedInitializers] Removing initializer '639_quantized_zero_point'. It is not used by any node and should be removed from the model.\n",
      "2022-10-18 00:00:41.145217 [W:onnxruntime:, graph.cc:3211 CleanUnusedInitializers] Removing initializer '651_quantized_scale'. It is not used by any node and should be removed from the model.\n",
      "2022-10-18 00:00:41.145402 [W:onnxruntime:, graph.cc:3211 CleanUnusedInitializers] Removing initializer '603_quantized_zero_point'. It is not used by any node and should be removed from the model.\n",
      "2022-10-18 00:00:41.145410 [W:onnxruntime:, graph.cc:3211 CleanUnusedInitializers] Removing initializer '603_quantized_scale'. It is not used by any node and should be removed from the model.\n",
      "2022-10-18 00:00:41.145417 [W:onnxruntime:, graph.cc:3211 CleanUnusedInitializers] Removing initializer '672_quantized_zero_point'. It is not used by any node and should be removed from the model.\n",
      "2022-10-18 00:00:41.145424 [W:onnxruntime:, graph.cc:3211 CleanUnusedInitializers] Removing initializer '423'. It is not used by any node and should be removed from the model.\n",
      "2022-10-18 00:00:41.145431 [W:onnxruntime:, graph.cc:3211 CleanUnusedInitializers] Removing initializer '633_quantized_zero_point'. It is not used by any node and should be removed from the model.\n",
      "2022-10-18 00:00:41.145438 [W:onnxruntime:, graph.cc:3211 CleanUnusedInitializers] Removing initializer '639_quantized_scale'. It is not used by any node and should be removed from the model.\n",
      "2022-10-18 00:00:41.145569 [W:onnxruntime:, graph.cc:3211 CleanUnusedInitializers] Removing initializer '612_quantized_zero_point'. It is not used by any node and should be removed from the model.\n",
      "2022-10-18 00:00:41.145579 [W:onnxruntime:, graph.cc:3211 CleanUnusedInitializers] Removing initializer '624_quantized_scale'. It is not used by any node and should be removed from the model.\n",
      "2022-10-18 00:00:41.145587 [W:onnxruntime:, graph.cc:3211 CleanUnusedInitializers] Removing initializer '681_quantized_zero_point'. It is not used by any node and should be removed from the model.\n",
      "2022-10-18 00:00:41.145594 [W:onnxruntime:, graph.cc:3211 CleanUnusedInitializers] Removing initializer '600_quantized_scale'. It is not used by any node and should be removed from the model.\n",
      "2022-10-18 00:00:41.145601 [W:onnxruntime:, graph.cc:3211 CleanUnusedInitializers] Removing initializer '579_quantized_zero_point'. It is not used by any node and should be removed from the model.\n",
      "2022-10-18 00:00:41.145720 [W:onnxruntime:, graph.cc:3211 CleanUnusedInitializers] Removing initializer '594_quantized_zero_point'. It is not used by any node and should be removed from the model.\n",
      "2022-10-18 00:00:41.145729 [W:onnxruntime:, graph.cc:3211 CleanUnusedInitializers] Removing initializer '594_quantized_scale'. It is not used by any node and should be removed from the model.\n",
      "2022-10-18 00:00:41.145736 [W:onnxruntime:, graph.cc:3211 CleanUnusedInitializers] Removing initializer '648_quantized_scale'. It is not used by any node and should be removed from the model.\n",
      "2022-10-18 00:00:41.145743 [W:onnxruntime:, graph.cc:3211 CleanUnusedInitializers] Removing initializer '591_quantized_zero_point'. It is not used by any node and should be removed from the model.\n",
      "2022-10-18 00:00:41.145750 [W:onnxruntime:, graph.cc:3211 CleanUnusedInitializers] Removing initializer '666_quantized_scale'. It is not used by any node and should be removed from the model.\n",
      "2022-10-18 00:00:41.147278 [W:onnxruntime:, graph.cc:3211 CleanUnusedInitializers] Removing initializer '591_quantized_scale'. It is not used by any node and should be removed from the model.\n",
      "2022-10-18 00:00:41.147287 [W:onnxruntime:, graph.cc:3211 CleanUnusedInitializers] Removing initializer '588_quantized_zero_point'. It is not used by any node and should be removed from the model.\n",
      "2022-10-18 00:00:41.147294 [W:onnxruntime:, graph.cc:3211 CleanUnusedInitializers] Removing initializer '410'. It is not used by any node and should be removed from the model.\n",
      "2022-10-18 00:00:41.147301 [W:onnxruntime:, graph.cc:3211 CleanUnusedInitializers] Removing initializer '672_quantized_scale'. It is not used by any node and should be removed from the model.\n",
      "2022-10-18 00:00:41.147308 [W:onnxruntime:, graph.cc:3211 CleanUnusedInitializers] Removing initializer '561_quantized_zero_point'. It is not used by any node and should be removed from the model.\n",
      "2022-10-18 00:00:41.147315 [W:onnxruntime:, graph.cc:3211 CleanUnusedInitializers] Removing initializer '546_quantized_scale'. It is not used by any node and should be removed from the model.\n",
      "2022-10-18 00:00:41.147445 [W:onnxruntime:, graph.cc:3211 CleanUnusedInitializers] Removing initializer '499'. It is not used by any node and should be removed from the model.\n",
      "2022-10-18 00:00:41.147455 [W:onnxruntime:, graph.cc:3211 CleanUnusedInitializers] Removing initializer '417'. It is not used by any node and should be removed from the model.\n",
      "2022-10-18 00:00:41.147462 [W:onnxruntime:, graph.cc:3211 CleanUnusedInitializers] Removing initializer '367'. It is not used by any node and should be removed from the model.\n",
      "2022-10-18 00:00:41.147468 [W:onnxruntime:, graph.cc:3211 CleanUnusedInitializers] Removing initializer '636_quantized_scale'. It is not used by any node and should be removed from the model.\n",
      "2022-10-18 00:00:41.147475 [W:onnxruntime:, graph.cc:3211 CleanUnusedInitializers] Removing initializer '606_quantized_zero_point'. It is not used by any node and should be removed from the model.\n",
      "2022-10-18 00:00:41.147483 [W:onnxruntime:, graph.cc:3211 CleanUnusedInitializers] Removing initializer '570_quantized_zero_point'. It is not used by any node and should be removed from the model.\n",
      "2022-10-18 00:00:41.147490 [W:onnxruntime:, graph.cc:3211 CleanUnusedInitializers] Removing initializer '570_quantized_scale'. It is not used by any node and should be removed from the model.\n",
      "2022-10-18 00:00:41.147497 [W:onnxruntime:, graph.cc:3211 CleanUnusedInitializers] Removing initializer '630_quantized_zero_point'. It is not used by any node and should be removed from the model.\n",
      "2022-10-18 00:00:41.147504 [W:onnxruntime:, graph.cc:3211 CleanUnusedInitializers] Removing initializer '609_quantized_scale'. It is not used by any node and should be removed from the model.\n",
      "2022-10-18 00:00:41.147511 [W:onnxruntime:, graph.cc:3211 CleanUnusedInitializers] Removing initializer '330'. It is not used by any node and should be removed from the model.\n",
      "2022-10-18 00:00:41.147644 [W:onnxruntime:, graph.cc:3211 CleanUnusedInitializers] Removing initializer '588_quantized_scale'. It is not used by any node and should be removed from the model.\n",
      "2022-10-18 00:00:41.147653 [W:onnxruntime:, graph.cc:3211 CleanUnusedInitializers] Removing initializer '482'. It is not used by any node and should be removed from the model.\n",
      "2022-10-18 00:00:41.147660 [W:onnxruntime:, graph.cc:3211 CleanUnusedInitializers] Removing initializer '609_quantized_zero_point'. It is not used by any node and should be removed from the model.\n",
      "2022-10-18 00:00:41.147667 [W:onnxruntime:, graph.cc:3211 CleanUnusedInitializers] Removing initializer '567_quantized_scale'. It is not used by any node and should be removed from the model.\n",
      "2022-10-18 00:00:41.147674 [W:onnxruntime:, graph.cc:3211 CleanUnusedInitializers] Removing initializer '456'. It is not used by any node and should be removed from the model.\n",
      "2022-10-18 00:00:41.147803 [W:onnxruntime:, graph.cc:3211 CleanUnusedInitializers] Removing initializer '392'. It is not used by any node and should be removed from the model.\n",
      "2022-10-18 00:00:41.147811 [W:onnxruntime:, graph.cc:3211 CleanUnusedInitializers] Removing initializer '579_quantized_scale'. It is not used by any node and should be removed from the model.\n",
      "2022-10-18 00:00:41.147818 [W:onnxruntime:, graph.cc:3211 CleanUnusedInitializers] Removing initializer '564_quantized_zero_point'. It is not used by any node and should be removed from the model.\n",
      "2022-10-18 00:00:41.147825 [W:onnxruntime:, graph.cc:3211 CleanUnusedInitializers] Removing initializer '564_quantized_scale'. It is not used by any node and should be removed from the model.\n",
      "2022-10-18 00:00:41.147832 [W:onnxruntime:, graph.cc:3211 CleanUnusedInitializers] Removing initializer '531'. It is not used by any node and should be removed from the model.\n",
      "2022-10-18 00:00:41.147839 [W:onnxruntime:, graph.cc:3211 CleanUnusedInitializers] Removing initializer '397'. It is not used by any node and should be removed from the model.\n",
      "2022-10-18 00:00:41.147945 [W:onnxruntime:, graph.cc:3211 CleanUnusedInitializers] Removing initializer '487'. It is not used by any node and should be removed from the model.\n",
      "2022-10-18 00:00:41.147952 [W:onnxruntime:, graph.cc:3211 CleanUnusedInitializers] Removing initializer '555_quantized_zero_point'. It is not used by any node and should be removed from the model.\n",
      "2022-10-18 00:00:41.147959 [W:onnxruntime:, graph.cc:3211 CleanUnusedInitializers] Removing initializer '582_quantized_scale'. It is not used by any node and should be removed from the model.\n",
      "2022-10-18 00:00:41.147966 [W:onnxruntime:, graph.cc:3211 CleanUnusedInitializers] Removing initializer '633_quantized_scale'. It is not used by any node and should be removed from the model.\n",
      "2022-10-18 00:00:41.147973 [W:onnxruntime:, graph.cc:3211 CleanUnusedInitializers] Removing initializer '549_quantized_zero_point'. It is not used by any node and should be removed from the model.\n",
      "2022-10-18 00:00:41.148088 [W:onnxruntime:, graph.cc:3211 CleanUnusedInitializers] Removing initializer '681_quantized_scale'. It is not used by any node and should be removed from the model.\n",
      "2022-10-18 00:00:41.148095 [W:onnxruntime:, graph.cc:3211 CleanUnusedInitializers] Removing initializer '558_quantized_scale'. It is not used by any node and should be removed from the model.\n",
      "2022-10-18 00:00:41.148102 [W:onnxruntime:, graph.cc:3211 CleanUnusedInitializers] Removing initializer '524'. It is not used by any node and should be removed from the model.\n",
      "2022-10-18 00:00:41.148109 [W:onnxruntime:, graph.cc:3211 CleanUnusedInitializers] Removing initializer '546_quantized_zero_point'. It is not used by any node and should be removed from the model.\n",
      "2022-10-18 00:00:41.148116 [W:onnxruntime:, graph.cc:3211 CleanUnusedInitializers] Removing initializer '567_quantized_zero_point'. It is not used by any node and should be removed from the model.\n",
      "2022-10-18 00:00:41.148241 [W:onnxruntime:, graph.cc:3211 CleanUnusedInitializers] Removing initializer '555_quantized_scale'. It is not used by any node and should be removed from the model.\n",
      "2022-10-18 00:00:41.148248 [W:onnxruntime:, graph.cc:3211 CleanUnusedInitializers] Removing initializer '469'. It is not used by any node and should be removed from the model.\n",
      "2022-10-18 00:00:41.148256 [W:onnxruntime:, graph.cc:3211 CleanUnusedInitializers] Removing initializer '549_quantized_scale'. It is not used by any node and should be removed from the model.\n",
      "2022-10-18 00:00:41.148262 [W:onnxruntime:, graph.cc:3211 CleanUnusedInitializers] Removing initializer '384'. It is not used by any node and should be removed from the model.\n",
      "2022-10-18 00:00:41.148290 [W:onnxruntime:, graph.cc:3211 CleanUnusedInitializers] Removing initializer '552_quantized_zero_point'. It is not used by any node and should be removed from the model.\n",
      "2022-10-18 00:00:41.148297 [W:onnxruntime:, graph.cc:3211 CleanUnusedInitializers] Removing initializer '597_quantized_scale'. It is not used by any node and should be removed from the model.\n",
      "2022-10-18 00:00:41.148393 [W:onnxruntime:, graph.cc:3211 CleanUnusedInitializers] Removing initializer '561_quantized_scale'. It is not used by any node and should be removed from the model.\n",
      "2022-10-18 00:00:41.148400 [W:onnxruntime:, graph.cc:3211 CleanUnusedInitializers] Removing initializer '409'. It is not used by any node and should be removed from the model.\n",
      "2022-10-18 00:00:41.148407 [W:onnxruntime:, graph.cc:3211 CleanUnusedInitializers] Removing initializer '618_quantized_scale'. It is not used by any node and should be removed from the model.\n",
      "2022-10-18 00:00:41.148414 [W:onnxruntime:, graph.cc:3211 CleanUnusedInitializers] Removing initializer '335'. It is not used by any node and should be removed from the model.\n",
      "2022-10-18 00:00:41.148420 [W:onnxruntime:, graph.cc:3211 CleanUnusedInitializers] Removing initializer '449'. It is not used by any node and should be removed from the model.\n",
      "2022-10-18 00:00:41.148548 [W:onnxruntime:, graph.cc:3211 CleanUnusedInitializers] Removing initializer '585_quantized_scale'. It is not used by any node and should be removed from the model.\n",
      "2022-10-18 00:00:41.148557 [W:onnxruntime:, graph.cc:3211 CleanUnusedInitializers] Removing initializer '642_quantized_scale'. It is not used by any node and should be removed from the model.\n",
      "2022-10-18 00:00:41.148564 [W:onnxruntime:, graph.cc:3211 CleanUnusedInitializers] Removing initializer '696_quantized_scale'. It is not used by any node and should be removed from the model.\n",
      "2022-10-18 00:00:41.148571 [W:onnxruntime:, graph.cc:3211 CleanUnusedInitializers] Removing initializer '444'. It is not used by any node and should be removed from the model.\n",
      "2022-10-18 00:00:41.148578 [W:onnxruntime:, graph.cc:3211 CleanUnusedInitializers] Removing initializer '385'. It is not used by any node and should be removed from the model.\n",
      "2022-10-18 00:00:41.148584 [W:onnxruntime:, graph.cc:3211 CleanUnusedInitializers] Removing initializer '693_quantized_zero_point'. It is not used by any node and should be removed from the model.\n",
      "2022-10-18 00:00:41.148695 [W:onnxruntime:, graph.cc:3211 CleanUnusedInitializers] Removing initializer '448'. It is not used by any node and should be removed from the model.\n",
      "2022-10-18 00:00:41.148702 [W:onnxruntime:, graph.cc:3211 CleanUnusedInitializers] Removing initializer '347'. It is not used by any node and should be removed from the model.\n",
      "2022-10-18 00:00:41.148709 [W:onnxruntime:, graph.cc:3211 CleanUnusedInitializers] Removing initializer '573_quantized_scale'. It is not used by any node and should be removed from the model.\n",
      "2022-10-18 00:00:41.148717 [W:onnxruntime:, graph.cc:3211 CleanUnusedInitializers] Removing initializer '615_quantized_zero_point'. It is not used by any node and should be removed from the model.\n",
      "2022-10-18 00:00:41.148723 [W:onnxruntime:, graph.cc:3211 CleanUnusedInitializers] Removing initializer '323'. It is not used by any node and should be removed from the model.\n",
      "2022-10-18 00:00:41.148845 [W:onnxruntime:, graph.cc:3211 CleanUnusedInitializers] Removing initializer '525'. It is not used by any node and should be removed from the model.\n",
      "2022-10-18 00:00:41.148852 [W:onnxruntime:, graph.cc:3211 CleanUnusedInitializers] Removing initializer '498'. It is not used by any node and should be removed from the model.\n",
      "2022-10-18 00:00:41.148859 [W:onnxruntime:, graph.cc:3211 CleanUnusedInitializers] Removing initializer '372'. It is not used by any node and should be removed from the model.\n",
      "2022-10-18 00:00:41.148866 [W:onnxruntime:, graph.cc:3211 CleanUnusedInitializers] Removing initializer '573_quantized_zero_point'. It is not used by any node and should be removed from the model.\n",
      "2022-10-18 00:00:41.148874 [W:onnxruntime:, graph.cc:3211 CleanUnusedInitializers] Removing initializer '512'. It is not used by any node and should be removed from the model.\n",
      "2022-10-18 00:00:41.148880 [W:onnxruntime:, graph.cc:3211 CleanUnusedInitializers] Removing initializer '443'. It is not used by any node and should be removed from the model.\n",
      "2022-10-18 00:00:41.148991 [W:onnxruntime:, graph.cc:3211 CleanUnusedInitializers] Removing initializer '663_quantized_scale'. It is not used by any node and should be removed from the model.\n",
      "2022-10-18 00:00:41.148999 [W:onnxruntime:, graph.cc:3211 CleanUnusedInitializers] Removing initializer '511'. It is not used by any node and should be removed from the model.\n",
      "2022-10-18 00:00:41.149006 [W:onnxruntime:, graph.cc:3211 CleanUnusedInitializers] Removing initializer '371'. It is not used by any node and should be removed from the model.\n",
      "2022-10-18 00:00:41.149013 [W:onnxruntime:, graph.cc:3211 CleanUnusedInitializers] Removing initializer '636_quantized_zero_point'. It is not used by any node and should be removed from the model.\n",
      "2022-10-18 00:00:41.149020 [W:onnxruntime:, graph.cc:3211 CleanUnusedInitializers] Removing initializer '507'. It is not used by any node and should be removed from the model.\n",
      "2022-10-18 00:00:41.149027 [W:onnxruntime:, graph.cc:3211 CleanUnusedInitializers] Removing initializer '506'. It is not used by any node and should be removed from the model.\n",
      "2022-10-18 00:00:41.149145 [W:onnxruntime:, graph.cc:3211 CleanUnusedInitializers] Removing initializer '552_quantized_scale'. It is not used by any node and should be removed from the model.\n",
      "2022-10-18 00:00:41.149153 [W:onnxruntime:, graph.cc:3211 CleanUnusedInitializers] Removing initializer '600_quantized_zero_point'. It is not used by any node and should be removed from the model.\n",
      "2022-10-18 00:00:41.149160 [W:onnxruntime:, graph.cc:3211 CleanUnusedInitializers] Removing initializer '317'. It is not used by any node and should be removed from the model.\n",
      "2022-10-18 00:00:41.149166 [W:onnxruntime:, graph.cc:3211 CleanUnusedInitializers] Removing initializer '494'. It is not used by any node and should be removed from the model.\n",
      "2022-10-18 00:00:41.149173 [W:onnxruntime:, graph.cc:3211 CleanUnusedInitializers] Removing initializer '435'. It is not used by any node and should be removed from the model.\n",
      "2022-10-18 00:00:41.149290 [W:onnxruntime:, graph.cc:3211 CleanUnusedInitializers] Removing initializer '493'. It is not used by any node and should be removed from the model.\n",
      "2022-10-18 00:00:41.149298 [W:onnxruntime:, graph.cc:3211 CleanUnusedInitializers] Removing initializer '690_quantized_zero_point'. It is not used by any node and should be removed from the model.\n",
      "2022-10-18 00:00:41.149305 [W:onnxruntime:, graph.cc:3211 CleanUnusedInitializers] Removing initializer '468'. It is not used by any node and should be removed from the model.\n",
      "2022-10-18 00:00:41.149311 [W:onnxruntime:, graph.cc:3211 CleanUnusedInitializers] Removing initializer '460'. It is not used by any node and should be removed from the model.\n",
      "2022-10-18 00:00:41.149318 [W:onnxruntime:, graph.cc:3211 CleanUnusedInitializers] Removing initializer '624_quantized_zero_point'. It is not used by any node and should be removed from the model.\n",
      "2022-10-18 00:00:41.149325 [W:onnxruntime:, graph.cc:3211 CleanUnusedInitializers] Removing initializer '621_quantized_zero_point'. It is not used by any node and should be removed from the model.\n",
      "2022-10-18 00:00:41.149439 [W:onnxruntime:, graph.cc:3211 CleanUnusedInitializers] Removing initializer '684_quantized_zero_point'. It is not used by any node and should be removed from the model.\n",
      "2022-10-18 00:00:41.149447 [W:onnxruntime:, graph.cc:3211 CleanUnusedInitializers] Removing initializer '360'. It is not used by any node and should be removed from the model.\n",
      "2022-10-18 00:00:41.149454 [W:onnxruntime:, graph.cc:3211 CleanUnusedInitializers] Removing initializer '366'. It is not used by any node and should be removed from the model.\n",
      "2022-10-18 00:00:41.149460 [W:onnxruntime:, graph.cc:3211 CleanUnusedInitializers] Removing initializer '519'. It is not used by any node and should be removed from the model.\n",
      "2022-10-18 00:00:41.149467 [W:onnxruntime:, graph.cc:3211 CleanUnusedInitializers] Removing initializer '648_quantized_zero_point'. It is not used by any node and should be removed from the model.\n",
      "2022-10-18 00:00:41.149588 [W:onnxruntime:, graph.cc:3211 CleanUnusedInitializers] Removing initializer '379'. It is not used by any node and should be removed from the model.\n",
      "2022-10-18 00:00:41.149596 [W:onnxruntime:, graph.cc:3211 CleanUnusedInitializers] Removing initializer '346'. It is not used by any node and should be removed from the model.\n",
      "2022-10-18 00:00:41.149602 [W:onnxruntime:, graph.cc:3211 CleanUnusedInitializers] Removing initializer '380'. It is not used by any node and should be removed from the model.\n",
      "2022-10-18 00:00:41.149609 [W:onnxruntime:, graph.cc:3211 CleanUnusedInitializers] Removing initializer '436'. It is not used by any node and should be removed from the model.\n",
      "2022-10-18 00:00:41.149615 [W:onnxruntime:, graph.cc:3211 CleanUnusedInitializers] Removing initializer '473'. It is not used by any node and should be removed from the model.\n",
      "2022-10-18 00:00:41.149622 [W:onnxruntime:, graph.cc:3211 CleanUnusedInitializers] Removing initializer '431'. It is not used by any node and should be removed from the model.\n",
      "2022-10-18 00:00:41.149729 [W:onnxruntime:, graph.cc:3211 CleanUnusedInitializers] Removing initializer '654_quantized_scale'. It is not used by any node and should be removed from the model.\n",
      "2022-10-18 00:00:41.149737 [W:onnxruntime:, graph.cc:3211 CleanUnusedInitializers] Removing initializer '422'. It is not used by any node and should be removed from the model.\n",
      "2022-10-18 00:00:41.149744 [W:onnxruntime:, graph.cc:3211 CleanUnusedInitializers] Removing initializer '669_quantized_scale'. It is not used by any node and should be removed from the model.\n",
      "2022-10-18 00:00:41.149750 [W:onnxruntime:, graph.cc:3211 CleanUnusedInitializers] Removing initializer '354'. It is not used by any node and should be removed from the model.\n",
      "2022-10-18 00:00:41.149757 [W:onnxruntime:, graph.cc:3211 CleanUnusedInitializers] Removing initializer '461'. It is not used by any node and should be removed from the model.\n",
      "2022-10-18 00:00:41.149763 [W:onnxruntime:, graph.cc:3211 CleanUnusedInitializers] Removing initializer '405'. It is not used by any node and should be removed from the model.\n",
      "2022-10-18 00:00:41.150008 [W:onnxruntime:, graph.cc:3211 CleanUnusedInitializers] Removing initializer '582_quantized_zero_point'. It is not used by any node and should be removed from the model.\n",
      "2022-10-18 00:00:41.150016 [W:onnxruntime:, graph.cc:3211 CleanUnusedInitializers] Removing initializer '576_quantized_zero_point'. It is not used by any node and should be removed from the model.\n",
      "2022-10-18 00:00:41.150023 [W:onnxruntime:, graph.cc:3211 CleanUnusedInitializers] Removing initializer '418'. It is not used by any node and should be removed from the model.\n",
      "2022-10-18 00:00:41.150029 [W:onnxruntime:, graph.cc:3211 CleanUnusedInitializers] Removing initializer '318'. It is not used by any node and should be removed from the model.\n",
      "2022-10-18 00:00:41.150036 [W:onnxruntime:, graph.cc:3211 CleanUnusedInitializers] Removing initializer '645_quantized_scale'. It is not used by any node and should be removed from the model.\n",
      "2022-10-18 00:00:41.150154 [W:onnxruntime:, graph.cc:3211 CleanUnusedInitializers] Removing initializer '576_quantized_scale'. It is not used by any node and should be removed from the model.\n",
      "2022-10-18 00:00:41.150163 [W:onnxruntime:, graph.cc:3211 CleanUnusedInitializers] Removing initializer '558_quantized_zero_point'. It is not used by any node and should be removed from the model.\n",
      "2022-10-18 00:00:41.150169 [W:onnxruntime:, graph.cc:3211 CleanUnusedInitializers] Removing initializer '342'. It is not used by any node and should be removed from the model.\n",
      "2022-10-18 00:00:41.150176 [W:onnxruntime:, graph.cc:3211 CleanUnusedInitializers] Removing initializer '398'. It is not used by any node and should be removed from the model.\n",
      "2022-10-18 00:00:41.150183 [W:onnxruntime:, graph.cc:3211 CleanUnusedInitializers] Removing initializer '532'. It is not used by any node and should be removed from the model.\n",
      "2022-10-18 00:00:41.150189 [W:onnxruntime:, graph.cc:3211 CleanUnusedInitializers] Removing initializer '393'. It is not used by any node and should be removed from the model.\n",
      "2022-10-18 00:00:41.150300 [W:onnxruntime:, graph.cc:3211 CleanUnusedInitializers] Removing initializer '355'. It is not used by any node and should be removed from the model.\n",
      "2022-10-18 00:00:41.150308 [W:onnxruntime:, graph.cc:3211 CleanUnusedInitializers] Removing initializer '341'. It is not used by any node and should be removed from the model.\n",
      "2022-10-18 00:00:41.150314 [W:onnxruntime:, graph.cc:3211 CleanUnusedInitializers] Removing initializer '334'. It is not used by any node and should be removed from the model.\n",
      "2022-10-18 00:00:41.150321 [W:onnxruntime:, graph.cc:3211 CleanUnusedInitializers] Removing initializer '618_quantized_zero_point'. It is not used by any node and should be removed from the model.\n",
      "2022-10-18 00:00:41.150328 [W:onnxruntime:, graph.cc:3211 CleanUnusedInitializers] Removing initializer '359'. It is not used by any node and should be removed from the model.\n",
      "2022-10-18 00:00:41.150446 [W:onnxruntime:, graph.cc:3211 CleanUnusedInitializers] Removing initializer '322'. It is not used by any node and should be removed from the model.\n",
      "Converting optimized ONNX model /Users/paulkoomey/Desktop/Life/UTA/2022 Fall/CSE 4391/onyx-model/onnxruntime-inference-examples/quantization/notebooks/imagenet_v2/mobilenet_v2_float.onnx to ORT format model /Users/paulkoomey/Desktop/Life/UTA/2022 Fall/CSE 4391/onyx-model/onnxruntime-inference-examples/quantization/notebooks/imagenet_v2/mobilenet_v2_float.basic.ort\n",
      "Converting optimized ONNX model /Users/paulkoomey/Desktop/Life/UTA/2022 Fall/CSE 4391/onyx-model/onnxruntime-inference-examples/quantization/notebooks/imagenet_v2/mobilenet_v2_float-opt.onnx to ORT format model /Users/paulkoomey/Desktop/Life/UTA/2022 Fall/CSE 4391/onyx-model/onnxruntime-inference-examples/quantization/notebooks/imagenet_v2/mobilenet_v2_float-opt.basic.ort\n",
      "Converting optimized ONNX model /Users/paulkoomey/Desktop/Life/UTA/2022 Fall/CSE 4391/onyx-model/onnxruntime-inference-examples/quantization/notebooks/imagenet_v2/augmented_model.onnx to ORT format model /Users/paulkoomey/Desktop/Life/UTA/2022 Fall/CSE 4391/onyx-model/onnxruntime-inference-examples/quantization/notebooks/imagenet_v2/augmented_model.basic.ort\n",
      "Converted 4 models. 0 failures.\n",
      "2022-10-18 01:00:41,378 ort_format_model.utils [INFO] - Processed /Users/paulkoomey/Desktop/Life/UTA/2022 Fall/CSE 4391/onyx-model/onnxruntime-inference-examples/quantization/notebooks/imagenet_v2/mobilenet_v2_uint8.basic.ort\n",
      "2022-10-18 01:00:41,390 ort_format_model.utils [INFO] - Processed /Users/paulkoomey/Desktop/Life/UTA/2022 Fall/CSE 4391/onyx-model/onnxruntime-inference-examples/quantization/notebooks/imagenet_v2/mobilenet_v2_float.basic.ort\n",
      "2022-10-18 01:00:41,410 ort_format_model.utils [INFO] - Processed /Users/paulkoomey/Desktop/Life/UTA/2022 Fall/CSE 4391/onyx-model/onnxruntime-inference-examples/quantization/notebooks/imagenet_v2/mobilenet_v2_float-opt.basic.ort\n",
      "2022-10-18 01:00:41,430 ort_format_model.utils [INFO] - Processed /Users/paulkoomey/Desktop/Life/UTA/2022 Fall/CSE 4391/onyx-model/onnxruntime-inference-examples/quantization/notebooks/imagenet_v2/augmented_model.basic.ort\n",
      "2022-10-18 01:00:41,430 ort_format_model.utils [INFO] - Created config in /Users/paulkoomey/Desktop/Life/UTA/2022 Fall/CSE 4391/onyx-model/onnxruntime-inference-examples/quantization/notebooks/imagenet_v2/required_operators.config\n"
     ]
    }
   ],
   "source": [
    "!{sys.executable} -m onnxruntime.tools.convert_onnx_models_to_ort --optimization_level basic ./"
   ]
  },
  {
   "cell_type": "markdown",
   "metadata": {},
   "source": [
    "Please find the following converted models in the same directory,\n",
    "* mobilenet_v2_float.ort\n",
    "* mobilenet_v2_uint8.ort\n",
    "\n",
    "The above models are used in [ONNX Runtime Mobile image classification Android sample application](https://github.com/microsoft/onnxruntime-inference-examples/tree/main/mobile/examples/image_classification/android).\n",
    "\n",
    "Please note, there are temporary ONNX model files generated by the quantization process, which are converted to ORT format as well, please ignore these files."
   ]
  },
  {
   "cell_type": "code",
   "execution_count": null,
   "metadata": {},
   "outputs": [],
   "source": []
  }
 ],
 "metadata": {
  "kernelspec": {
   "display_name": "Python 3 (ipykernel)",
   "language": "python",
   "name": "python3"
  },
  "language_info": {
   "codemirror_mode": {
    "name": "ipython",
    "version": 3
   },
   "file_extension": ".py",
   "mimetype": "text/x-python",
   "name": "python",
   "nbconvert_exporter": "python",
   "pygments_lexer": "ipython3",
   "version": "3.9.12"
  },
  "varInspector": {
   "cols": {
    "lenName": 16,
    "lenType": 16,
    "lenVar": 40
   },
   "kernels_config": {
    "python": {
     "delete_cmd_postfix": "",
     "delete_cmd_prefix": "del ",
     "library": "var_list.py",
     "varRefreshCmd": "print(var_dic_list())"
    },
    "r": {
     "delete_cmd_postfix": ") ",
     "delete_cmd_prefix": "rm(",
     "library": "var_list.r",
     "varRefreshCmd": "cat(var_dic_list()) "
    }
   },
   "types_to_exclude": [
    "module",
    "function",
    "builtin_function_or_method",
    "instance",
    "_Feature"
   ],
   "window_display": false
  }
 },
 "nbformat": 4,
 "nbformat_minor": 4
}

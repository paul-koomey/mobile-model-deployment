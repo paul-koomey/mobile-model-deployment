{
 "cells": [
  {
   "cell_type": "markdown",
   "metadata": {},
   "source": [
    "Copyright (c) Microsoft Corporation. All rights reserved.  \n",
    "Licensed under the MIT License."
   ]
  },
  {
   "cell_type": "markdown",
   "metadata": {},
   "source": [
    "# Mobilenet v2 Quantization with ONNX Runtime on CPU"
   ]
  },
  {
   "cell_type": "markdown",
   "metadata": {},
   "source": [
    "In this tutorial, we will load a mobilenet v2 model pretrained with [PyTorch](https://pytorch.org/), export the model to ONNX, quantize then run with ONNXRuntime, and convert the ONNX models to ORT format for ONNXRuntime Mobile."
   ]
  },
  {
   "cell_type": "markdown",
   "metadata": {},
   "source": [
    "## 0. Prerequisites ##\n",
    "\n",
    "If you have Jupyter Notebook, you can run this notebook directly with it. You may need to install or upgrade [PyTorch](https://pytorch.org/), [OnnxRuntime](https://microsoft.github.io/onnxruntime/), and other required packages.\n",
    "\n",
    "Otherwise, you can setup a new environment. First, install [Anaconda](https://www.anaconda.com/distribution/). Then open an AnaConda prompt window and run the following commands:\n",
    "\n",
    "```console\n",
    "conda create -n cpu_env python=3.8\n",
    "conda activate cpu_env\n",
    "conda install jupyter\n",
    "jupyter notebook\n",
    "```\n",
    "The last command will launch Jupyter Notebook and we can open this notebook in browser to continue."
   ]
  },
  {
   "cell_type": "markdown",
   "metadata": {},
   "source": [
    "### 0.1 Install packages\n",
    "Let's install the necessary packages to start the tutorial. We will install PyTorch 1.8, OnnxRuntime 1.8, latest ONNX and pillow."
   ]
  },
  {
   "cell_type": "code",
   "execution_count": 1,
   "metadata": {
    "scrolled": true
   },
   "outputs": [
    {
     "name": "stdout",
     "output_type": "stream",
     "text": [
      "Looking in links: https://download.pytorch.org/whl/torch_stable.html\n",
      "Requirement already satisfied: torch==1.8.0 in /Users/paulkoomey/opt/anaconda3/envs/cpu_env/lib/python3.8/site-packages (1.8.0)\n",
      "Requirement already satisfied: torchvision==0.9.0 in /Users/paulkoomey/opt/anaconda3/envs/cpu_env/lib/python3.8/site-packages (0.9.0)\n",
      "Requirement already satisfied: torchaudio===0.8.0 in /Users/paulkoomey/opt/anaconda3/envs/cpu_env/lib/python3.8/site-packages (0.8.0)\n",
      "Requirement already satisfied: numpy in /Users/paulkoomey/opt/anaconda3/envs/cpu_env/lib/python3.8/site-packages (from torch==1.8.0) (1.23.4)\n",
      "Requirement already satisfied: typing-extensions in /Users/paulkoomey/opt/anaconda3/envs/cpu_env/lib/python3.8/site-packages (from torch==1.8.0) (4.3.0)\n",
      "Requirement already satisfied: pillow>=4.1.1 in /Users/paulkoomey/opt/anaconda3/envs/cpu_env/lib/python3.8/site-packages (from torchvision==0.9.0) (9.2.0)\n",
      "Requirement already satisfied: onnxruntime==1.8.0 in /Users/paulkoomey/opt/anaconda3/envs/cpu_env/lib/python3.8/site-packages (1.8.0)\n",
      "Requirement already satisfied: flatbuffers in /Users/paulkoomey/opt/anaconda3/envs/cpu_env/lib/python3.8/site-packages (from onnxruntime==1.8.0) (22.9.24)\n",
      "Requirement already satisfied: protobuf in /Users/paulkoomey/opt/anaconda3/envs/cpu_env/lib/python3.8/site-packages (from onnxruntime==1.8.0) (3.20.1)\n",
      "Requirement already satisfied: numpy>=1.16.6 in /Users/paulkoomey/opt/anaconda3/envs/cpu_env/lib/python3.8/site-packages (from onnxruntime==1.8.0) (1.23.4)\n",
      "Requirement already satisfied: onnx in /Users/paulkoomey/opt/anaconda3/envs/cpu_env/lib/python3.8/site-packages (1.12.0)\n",
      "Requirement already satisfied: numpy>=1.16.6 in /Users/paulkoomey/opt/anaconda3/envs/cpu_env/lib/python3.8/site-packages (from onnx) (1.23.4)\n",
      "Requirement already satisfied: protobuf<=3.20.1,>=3.12.2 in /Users/paulkoomey/opt/anaconda3/envs/cpu_env/lib/python3.8/site-packages (from onnx) (3.20.1)\n",
      "Requirement already satisfied: typing-extensions>=3.6.2.1 in /Users/paulkoomey/opt/anaconda3/envs/cpu_env/lib/python3.8/site-packages (from onnx) (4.3.0)\n",
      "Requirement already satisfied: pillow in /Users/paulkoomey/opt/anaconda3/envs/cpu_env/lib/python3.8/site-packages (9.2.0)\n"
     ]
    }
   ],
   "source": [
    "# Install or upgrade PyTorch 1.8.0 and OnnxRuntime 1.8 for CPU-only.\n",
    "import sys\n",
    "!{sys.executable} -m pip install --upgrade torch==1.8.0 torchvision==0.9.0 torchaudio===0.8.0 -f https://download.pytorch.org/whl/torch_stable.html\n",
    "!{sys.executable} -m pip install --upgrade onnxruntime==1.8.0\n",
    "!{sys.executable} -m pip install --upgrade onnx\n",
    "!{sys.executable} -m pip install --upgrade pillow"
   ]
  },
  {
   "cell_type": "markdown",
   "metadata": {},
   "source": [
    "# 1 Download pretrained model and export to ONNX"
   ]
  },
  {
   "cell_type": "markdown",
   "metadata": {},
   "source": [
    "In this step, we load a pretrained mobilenet v2 model, and export it to ONNX."
   ]
  },
  {
   "cell_type": "markdown",
   "metadata": {},
   "source": [
    "### 1.1 Load the pretrained model\n",
    "Use torchvision provides API to load mobilenet_v2 model."
   ]
  },
  {
   "cell_type": "code",
   "execution_count": 2,
   "metadata": {},
   "outputs": [],
   "source": [
    "from torchvision import models, datasets, transforms as T\n",
    "mobilenet_v2 = models.mobilenet_v2(pretrained=True)"
   ]
  },
  {
   "cell_type": "markdown",
   "metadata": {},
   "source": [
    "### 1.2 Export the model to ONNX\n",
    "Pytorch onnx export API to export the model."
   ]
  },
  {
   "cell_type": "code",
   "execution_count": 4,
   "metadata": {},
   "outputs": [],
   "source": [
    "import torch\n",
    "image_height = 224\n",
    "image_width = 224\n",
    "x = torch.randn(1, 3, image_height, image_width, requires_grad=True)\n",
    "torch_out = mobilenet_v2(x)\n",
    "\n",
    "# Export the model\n",
    "torch.onnx.export(mobilenet_v2,              # model being run\n",
    "                  x,                         # model input (or a tuple for multiple inputs)\n",
    "                  \"mobilenet_v2_float.onnx\", # where to save the model (can be a file or file-like object)\n",
    "                  export_params=True,        # store the trained parameter weights inside the model file\n",
    "                  opset_version=12,          # the ONNX version to export the model to\n",
    "                  do_constant_folding=True,  # whether to execute constant folding for optimization\n",
    "                  input_names = ['input'],   # the model's input names\n",
    "                  output_names = ['output']) # the model's output names\n"
   ]
  },
  {
   "cell_type": "markdown",
   "metadata": {},
   "source": [
    "### 1.3 Sample Execution with ONNXRuntime"
   ]
  },
  {
   "cell_type": "markdown",
   "metadata": {},
   "source": [
    "Run an sample with the full precision ONNX model. Firstly, implement the preprocess."
   ]
  },
  {
   "cell_type": "code",
   "execution_count": 6,
   "metadata": {},
   "outputs": [],
   "source": [
    "from PIL import Image\n",
    "import numpy as np\n",
    "import onnxruntime\n",
    "import torch\n",
    "\n",
    "def preprocess_image(image_path, height, width, channels=3):\n",
    "    image = Image.open(image_path)\n",
    "    image = image.resize((width, height), Image.ANTIALIAS)\n",
    "    image_data = np.asarray(image).astype(np.float32)\n",
    "    image_data = image_data.transpose([2, 0, 1]) # transpose to CHW\n",
    "    mean = np.array([0.079, 0.05, 0]) + 0.406\n",
    "    std = np.array([0.005, 0, 0.001]) + 0.224\n",
    "    for channel in range(image_data.shape[0]):\n",
    "        image_data[channel, :, :] = (image_data[channel, :, :] / 255 - mean[channel]) / std[channel]\n",
    "    image_data = np.expand_dims(image_data, 0)\n",
    "    return image_data"
   ]
  },
  {
   "cell_type": "markdown",
   "metadata": {},
   "source": [
    "#### Download the imagenet labels and load it"
   ]
  },
  {
   "cell_type": "code",
   "execution_count": 7,
   "metadata": {},
   "outputs": [
    {
     "name": "stdout",
     "output_type": "stream",
     "text": [
      "  % Total    % Received % Xferd  Average Speed   Time    Time     Time  Current\n",
      "                                 Dload  Upload   Total   Spent    Left  Speed\n",
      "100 10472  100 10472    0     0  98279      0 --:--:-- --:--:-- --:--:--  106k\n"
     ]
    }
   ],
   "source": [
    "# Download ImageNet labels\n",
    "!curl -o imagenet_classes.txt https://raw.githubusercontent.com/pytorch/hub/master/imagenet_classes.txt\n",
    "\n",
    "# Read the categories\n",
    "with open(\"imagenet_classes.txt\", \"r\") as f:\n",
    "    categories = [s.strip() for s in f.readlines()]"
   ]
  },
  {
   "cell_type": "markdown",
   "metadata": {},
   "source": [
    "#### Run the example with ONNXRuntime"
   ]
  },
  {
   "cell_type": "code",
   "execution_count": 8,
   "metadata": {},
   "outputs": [
    {
     "name": "stdout",
     "output_type": "stream",
     "text": [
      "tabby 0.7008078\n",
      "Egyptian cat 0.17496236\n",
      "tiger cat 0.08749774\n",
      "quilt 0.0067868093\n",
      "plastic bag 0.005780736\n"
     ]
    },
    {
     "name": "stderr",
     "output_type": "stream",
     "text": [
      "/var/folders/6z/7rs7zxj936935pr3dwn6772c0000gn/T/ipykernel_65186/2249352223.py:8: DeprecationWarning: ANTIALIAS is deprecated and will be removed in Pillow 10 (2023-07-01). Use Resampling.LANCZOS instead.\n",
      "  image = image.resize((width, height), Image.ANTIALIAS)\n"
     ]
    }
   ],
   "source": [
    "session_fp32 = onnxruntime.InferenceSession(\"mobilenet_v2_float.onnx\")\n",
    "\n",
    "def softmax(x):\n",
    "    \"\"\"Compute softmax values for each sets of scores in x.\"\"\"\n",
    "    e_x = np.exp(x - np.max(x))\n",
    "    return e_x / e_x.sum()\n",
    "\n",
    "def run_sample(session, image_file, categories):\n",
    "    output = session.run([], {'input':preprocess_image(image_file, image_height, image_width)})[0]\n",
    "    output = output.flatten()\n",
    "    output = softmax(output) # this is optional\n",
    "    top5_catid = np.argsort(-output)[:5]\n",
    "    for catid in top5_catid:\n",
    "        print(categories[catid], output[catid])\n",
    "\n",
    "run_sample(session_fp32, 'cat.jpg', categories)"
   ]
  },
  {
   "cell_type": "markdown",
   "metadata": {},
   "source": [
    "# 2 Quantize the model with ONNXRuntime \n",
    "In this step, we load the full precison model, and quantize it with ONNXRuntime quantization tool. And show the model size comparison between full precision and quantized model. Finally, we run the same sample with the quantized model"
   ]
  },
  {
   "cell_type": "markdown",
   "metadata": {},
   "source": [
    "## 2.1 Implement a CalibrationDataReader\n",
    "CalibrationDataReader takes in calibration data and generates input for the model"
   ]
  },
  {
   "cell_type": "code",
   "execution_count": 9,
   "metadata": {},
   "outputs": [],
   "source": [
    "from onnxruntime.quantization import quantize_static, CalibrationDataReader, QuantType\n",
    "import os\n",
    "\n",
    "def preprocess_func(images_folder, height, width, size_limit=0):\n",
    "    image_names = os.listdir(images_folder)\n",
    "    if size_limit > 0 and len(image_names) >= size_limit:\n",
    "        batch_filenames = [image_names[i] for i in range(size_limit)]\n",
    "    else:\n",
    "        batch_filenames = image_names\n",
    "    unconcatenated_batch_data = []\n",
    "\n",
    "    for image_name in batch_filenames:\n",
    "        image_filepath = images_folder + '/' + image_name\n",
    "        image_data = preprocess_image(image_filepath, height, width)\n",
    "        unconcatenated_batch_data.append(image_data)\n",
    "    batch_data = np.concatenate(np.expand_dims(unconcatenated_batch_data, axis=0), axis=0)\n",
    "    return batch_data\n",
    "\n",
    "\n",
    "class MobilenetDataReader(CalibrationDataReader):\n",
    "    def __init__(self, calibration_image_folder):\n",
    "        self.image_folder = calibration_image_folder\n",
    "        self.preprocess_flag = True\n",
    "        self.enum_data_dicts = []\n",
    "        self.datasize = 0\n",
    "\n",
    "    def get_next(self):\n",
    "        if self.preprocess_flag:\n",
    "            self.preprocess_flag = False\n",
    "            nhwc_data_list = preprocess_func(self.image_folder, image_height, image_width, size_limit=0)\n",
    "            self.datasize = len(nhwc_data_list)\n",
    "            self.enum_data_dicts = iter([{'input': nhwc_data} for nhwc_data in nhwc_data_list])\n",
    "        return next(self.enum_data_dicts, None)"
   ]
  },
  {
   "cell_type": "markdown",
   "metadata": {},
   "source": [
    "## 2.2 Quantize the model"
   ]
  },
  {
   "cell_type": "markdown",
   "metadata": {},
   "source": [
    "As we can not upload full calibration data set for copy right issue, we only demonstrate with some example images. You need to use your own calibration data set in practice."
   ]
  },
  {
   "cell_type": "code",
   "execution_count": 12,
   "metadata": {},
   "outputs": [
    {
     "name": "stderr",
     "output_type": "stream",
     "text": [
      "/var/folders/6z/7rs7zxj936935pr3dwn6772c0000gn/T/ipykernel_65186/2249352223.py:8: DeprecationWarning: ANTIALIAS is deprecated and will be removed in Pillow 10 (2023-07-01). Use Resampling.LANCZOS instead.\n",
      "  image = image.resize((width, height), Image.ANTIALIAS)\n"
     ]
    },
    {
     "name": "stdout",
     "output_type": "stream",
     "text": [
      "ONNX full precision model size (MB): 13.31911563873291\n",
      "ONNX quantized model size (MB): 3.4079103469848633\n"
     ]
    }
   ],
   "source": [
    "# change it to your real calibration data set\n",
    "calibration_data_folder = \"calibration_imagenet\"\n",
    "dr = MobilenetDataReader(calibration_data_folder)\n",
    "\n",
    "quantize_static('mobilenet_v2_float.onnx',\n",
    "                'mobilenet_v2_uint8.onnx',\n",
    "                dr)\n",
    "\n",
    "print('ONNX full precision model size (MB):', os.path.getsize(\"mobilenet_v2_float.onnx\")/(1024*1024))\n",
    "print('ONNX quantized model size (MB):', os.path.getsize(\"mobilenet_v2_uint8.onnx\")/(1024*1024))"
   ]
  },
  {
   "cell_type": "markdown",
   "metadata": {},
   "source": [
    "## 2.3 Run the model with OnnxRuntime"
   ]
  },
  {
   "cell_type": "code",
   "execution_count": 14,
   "metadata": {},
   "outputs": [
    {
     "name": "stdout",
     "output_type": "stream",
     "text": [
      "tabby 0.7643568\n",
      "tiger cat 0.12288304\n",
      "Egyptian cat 0.10029775\n",
      "quilt 0.0031760195\n",
      "tiger 0.001409553\n"
     ]
    },
    {
     "name": "stderr",
     "output_type": "stream",
     "text": [
      "2022-10-17 23:59:38.557006 [W:onnxruntime:, graph.cc:3211 CleanUnusedInitializers] Removing initializer '696_quantized_zero_point'. It is not used by any node and should be removed from the model.\n",
      "2022-10-17 23:59:38.557071 [W:onnxruntime:, graph.cc:3211 CleanUnusedInitializers] Removing initializer '693_quantized_scale'. It is not used by any node and should be removed from the model.\n",
      "2022-10-17 23:59:38.557087 [W:onnxruntime:, graph.cc:3211 CleanUnusedInitializers] Removing initializer '690_quantized_scale'. It is not used by any node and should be removed from the model.\n",
      "2022-10-17 23:59:38.557102 [W:onnxruntime:, graph.cc:3211 CleanUnusedInitializers] Removing initializer '687_quantized_zero_point'. It is not used by any node and should be removed from the model.\n",
      "2022-10-17 23:59:38.557116 [W:onnxruntime:, graph.cc:3211 CleanUnusedInitializers] Removing initializer '687_quantized_scale'. It is not used by any node and should be removed from the model.\n",
      "2022-10-17 23:59:38.557146 [W:onnxruntime:, graph.cc:3211 CleanUnusedInitializers] Removing initializer '684_quantized_scale'. It is not used by any node and should be removed from the model.\n",
      "2022-10-17 23:59:38.557162 [W:onnxruntime:, graph.cc:3211 CleanUnusedInitializers] Removing initializer '678_quantized_zero_point'. It is not used by any node and should be removed from the model.\n",
      "2022-10-17 23:59:38.557176 [W:onnxruntime:, graph.cc:3211 CleanUnusedInitializers] Removing initializer '678_quantized_scale'. It is not used by any node and should be removed from the model.\n",
      "2022-10-17 23:59:38.557191 [W:onnxruntime:, graph.cc:3211 CleanUnusedInitializers] Removing initializer '699_quantized_zero_point'. It is not used by any node and should be removed from the model.\n",
      "2022-10-17 23:59:38.557206 [W:onnxruntime:, graph.cc:3211 CleanUnusedInitializers] Removing initializer '675_quantized_zero_point'. It is not used by any node and should be removed from the model.\n",
      "2022-10-17 23:59:38.557221 [W:onnxruntime:, graph.cc:3211 CleanUnusedInitializers] Removing initializer '669_quantized_zero_point'. It is not used by any node and should be removed from the model.\n",
      "2022-10-17 23:59:38.557237 [W:onnxruntime:, graph.cc:3211 CleanUnusedInitializers] Removing initializer '699_quantized_scale'. It is not used by any node and should be removed from the model.\n",
      "2022-10-17 23:59:38.557252 [W:onnxruntime:, graph.cc:3211 CleanUnusedInitializers] Removing initializer '663_quantized_zero_point'. It is not used by any node and should be removed from the model.\n",
      "2022-10-17 23:59:38.557841 [W:onnxruntime:, graph.cc:3211 CleanUnusedInitializers] Removing initializer '520'. It is not used by any node and should be removed from the model.\n",
      "2022-10-17 23:59:38.557912 [W:onnxruntime:, graph.cc:3211 CleanUnusedInitializers] Removing initializer '660_quantized_zero_point'. It is not used by any node and should be removed from the model.\n",
      "2022-10-17 23:59:38.557998 [W:onnxruntime:, graph.cc:3211 CleanUnusedInitializers] Removing initializer '660_quantized_scale'. It is not used by any node and should be removed from the model.\n",
      "2022-10-17 23:59:38.558042 [W:onnxruntime:, graph.cc:3211 CleanUnusedInitializers] Removing initializer '675_quantized_scale'. It is not used by any node and should be removed from the model.\n",
      "2022-10-17 23:59:38.558058 [W:onnxruntime:, graph.cc:3211 CleanUnusedInitializers] Removing initializer '654_quantized_zero_point'. It is not used by any node and should be removed from the model.\n",
      "2022-10-17 23:59:38.558075 [W:onnxruntime:, graph.cc:3211 CleanUnusedInitializers] Removing initializer '455'. It is not used by any node and should be removed from the model.\n",
      "2022-10-17 23:59:38.558088 [W:onnxruntime:, graph.cc:3211 CleanUnusedInitializers] Removing initializer '657_quantized_zero_point'. It is not used by any node and should be removed from the model.\n",
      "2022-10-17 23:59:38.558101 [W:onnxruntime:, graph.cc:3211 CleanUnusedInitializers] Removing initializer '651_quantized_zero_point'. It is not used by any node and should be removed from the model.\n",
      "2022-10-17 23:59:38.558115 [W:onnxruntime:, graph.cc:3211 CleanUnusedInitializers] Removing initializer '657_quantized_scale'. It is not used by any node and should be removed from the model.\n",
      "2022-10-17 23:59:38.558128 [W:onnxruntime:, graph.cc:3211 CleanUnusedInitializers] Removing initializer '430'. It is not used by any node and should be removed from the model.\n",
      "2022-10-17 23:59:38.558140 [W:onnxruntime:, graph.cc:3211 CleanUnusedInitializers] Removing initializer '645_quantized_zero_point'. It is not used by any node and should be removed from the model.\n",
      "2022-10-17 23:59:38.558155 [W:onnxruntime:, graph.cc:3211 CleanUnusedInitializers] Removing initializer '585_quantized_zero_point'. It is not used by any node and should be removed from the model.\n",
      "2022-10-17 23:59:38.558171 [W:onnxruntime:, graph.cc:3211 CleanUnusedInitializers] Removing initializer '486'. It is not used by any node and should be removed from the model.\n",
      "2022-10-17 23:59:38.558185 [W:onnxruntime:, graph.cc:3211 CleanUnusedInitializers] Removing initializer '329'. It is not used by any node and should be removed from the model.\n",
      "2022-10-17 23:59:38.558199 [W:onnxruntime:, graph.cc:3211 CleanUnusedInitializers] Removing initializer '630_quantized_scale'. It is not used by any node and should be removed from the model.\n",
      "2022-10-17 23:59:38.558211 [W:onnxruntime:, graph.cc:3211 CleanUnusedInitializers] Removing initializer '474'. It is not used by any node and should be removed from the model.\n",
      "2022-10-17 23:59:38.558224 [W:onnxruntime:, graph.cc:3211 CleanUnusedInitializers] Removing initializer '606_quantized_scale'. It is not used by any node and should be removed from the model.\n",
      "2022-10-17 23:59:38.558237 [W:onnxruntime:, graph.cc:3211 CleanUnusedInitializers] Removing initializer '481'. It is not used by any node and should be removed from the model.\n",
      "2022-10-17 23:59:38.558249 [W:onnxruntime:, graph.cc:3211 CleanUnusedInitializers] Removing initializer '627_quantized_zero_point'. It is not used by any node and should be removed from the model.\n",
      "2022-10-17 23:59:38.558262 [W:onnxruntime:, graph.cc:3211 CleanUnusedInitializers] Removing initializer '627_quantized_scale'. It is not used by any node and should be removed from the model.\n",
      "2022-10-17 23:59:38.558276 [W:onnxruntime:, graph.cc:3211 CleanUnusedInitializers] Removing initializer '404'. It is not used by any node and should be removed from the model.\n",
      "2022-10-17 23:59:38.558290 [W:onnxruntime:, graph.cc:3211 CleanUnusedInitializers] Removing initializer '621_quantized_scale'. It is not used by any node and should be removed from the model.\n",
      "2022-10-17 23:59:38.558303 [W:onnxruntime:, graph.cc:3211 CleanUnusedInitializers] Removing initializer '597_quantized_zero_point'. It is not used by any node and should be removed from the model.\n",
      "2022-10-17 23:59:38.558317 [W:onnxruntime:, graph.cc:3211 CleanUnusedInitializers] Removing initializer '642_quantized_zero_point'. It is not/var/folders/6z/7rs7zxj936935pr3dwn6772c0000gn/T/ipykernel_65186/2249352223.py:8: DeprecationWarning: ANTIALIAS is deprecated and will be removed in Pillow 10 (2023-07-01). Use Resampling.LANCZOS instead.\n",
      "  image = image.resize((width, height), Image.ANTIALIAS)\n",
      " used by any node and should be removed from the model.\n",
      "2022-10-17 23:59:38.558330 [W:onnxruntime:, graph.cc:3211 CleanUnusedInitializers] Removing initializer '615_quantized_scale'. It is not used by any node and should be removed from the model.\n",
      "2022-10-17 23:59:38.558342 [W:onnxruntime:, graph.cc:3211 CleanUnusedInitializers] Removing initializer '666_quantized_zero_point'. It is not used by any node and should be removed from the model.\n",
      "2022-10-17 23:59:38.558519 [W:onnxruntime:, graph.cc:3211 CleanUnusedInitializers] Removing initializer '612_quantized_scale'. It is not used by any node and should be removed from the model.\n",
      "2022-10-17 23:59:38.558537 [W:onnxruntime:, graph.cc:3211 CleanUnusedInitializers] Removing initializer '639_quantized_zero_point'. It is not used by any node and should be removed from the model.\n",
      "2022-10-17 23:59:38.558551 [W:onnxruntime:, graph.cc:3211 CleanUnusedInitializers] Removing initializer '651_quantized_scale'. It is not used by any node and should be removed from the model.\n",
      "2022-10-17 23:59:38.558564 [W:onnxruntime:, graph.cc:3211 CleanUnusedInitializers] Removing initializer '603_quantized_zero_point'. It is not used by any node and should be removed from the model.\n",
      "2022-10-17 23:59:38.558577 [W:onnxruntime:, graph.cc:3211 CleanUnusedInitializers] Removing initializer '603_quantized_scale'. It is not used by any node and should be removed from the model.\n",
      "2022-10-17 23:59:38.558590 [W:onnxruntime:, graph.cc:3211 CleanUnusedInitializers] Removing initializer '672_quantized_zero_point'. It is not used by any node and should be removed from the model.\n",
      "2022-10-17 23:59:38.558603 [W:onnxruntime:, graph.cc:3211 CleanUnusedInitializers] Removing initializer '423'. It is not used by any node and should be removed from the model.\n",
      "2022-10-17 23:59:38.558616 [W:onnxruntime:, graph.cc:3211 CleanUnusedInitializers] Removing initializer '633_quantized_zero_point'. It is not used by any node and should be removed from the model.\n",
      "2022-10-17 23:59:38.558629 [W:onnxruntime:, graph.cc:3211 CleanUnusedInitializers] Removing initializer '639_quantized_scale'. It is not used by any node and should be removed from the model.\n",
      "2022-10-17 23:59:38.558679 [W:onnxruntime:, graph.cc:3211 CleanUnusedInitializers] Removing initializer '612_quantized_zero_point'. It is not used by any node and should be removed from the model.\n",
      "2022-10-17 23:59:38.558715 [W:onnxruntime:, graph.cc:3211 CleanUnusedInitializers] Removing initializer '624_quantized_scale'. It is not used by any node and should be removed from the model.\n",
      "2022-10-17 23:59:38.558732 [W:onnxruntime:, graph.cc:3211 CleanUnusedInitializers] Removing initializer '681_quantized_zero_point'. It is not used by any node and should be removed from the model.\n",
      "2022-10-17 23:59:38.558746 [W:onnxruntime:, graph.cc:3211 CleanUnusedInitializers] Removing initializer '600_quantized_scale'. It is not used by any node and should be removed from the model.\n",
      "2022-10-17 23:59:38.558759 [W:onnxruntime:, graph.cc:3211 CleanUnusedInitializers] Removing initializer '579_quantized_zero_point'. It is not used by any node and should be removed from the model.\n",
      "2022-10-17 23:59:38.558772 [W:onnxruntime:, graph.cc:3211 CleanUnusedInitializers] Removing initializer '594_quantized_zero_point'. It is not used by any node and should be removed from the model.\n",
      "2022-10-17 23:59:38.558785 [W:onnxruntime:, graph.cc:3211 CleanUnusedInitializers] Removing initializer '594_quantized_scale'. It is not used by any node and should be removed from the model.\n",
      "2022-10-17 23:59:38.558798 [W:onnxruntime:, graph.cc:3211 CleanUnusedInitializers] Removing initializer '648_quantized_scale'. It is not used by any node and should be removed from the model.\n",
      "2022-10-17 23:59:38.558812 [W:onnxruntime:, graph.cc:3211 CleanUnusedInitializers] Removing initializer '591_quantized_zero_point'. It is not used by any node and should be removed from the model.\n",
      "2022-10-17 23:59:38.558825 [W:onnxruntime:, graph.cc:3211 CleanUnusedInitializers] Removing initializer '666_quantized_scale'. It is not used by any node and should be removed from the model.\n",
      "2022-10-17 23:59:38.558945 [W:onnxruntime:, graph.cc:3211 CleanUnusedInitializers] Removing initializer '591_quantized_scale'. It is not used by any node and should be removed from the model.\n",
      "2022-10-17 23:59:38.558960 [W:onnxruntime:, graph.cc:3211 CleanUnusedInitializers] Removing initializer '588_quantized_zero_point'. It is not used by any node and should be removed from the model.\n",
      "2022-10-17 23:59:38.558973 [W:onnxruntime:, graph.cc:3211 CleanUnusedInitializers] Removing initializer '410'. It is not used by any node and should be removed from the model.\n",
      "2022-10-17 23:59:38.559033 [W:onnxruntime:, graph.cc:3211 CleanUnusedInitializers] Removing initializer '672_quantized_scale'. It is not used by any node and should be removed from the model.\n",
      "2022-10-17 23:59:38.559055 [W:onnxruntime:, graph.cc:3211 CleanUnusedInitializers] Removing initializer '561_quantized_zero_point'. It is not used by any node and should be removed from the model.\n",
      "2022-10-17 23:59:38.559071 [W:onnxruntime:, graph.cc:3211 CleanUnusedInitializers] Removing initializer '546_quantized_scale'. It is not used by any node and should be removed from the model.\n",
      "2022-10-17 23:59:38.559087 [W:onnxruntime:, graph.cc:3211 CleanUnusedInitializers] Removing initializer '499'. It is not used by any node and should be removed from the model.\n",
      "2022-10-17 23:59:38.559120 [W:onnxruntime:, graph.cc:3211 CleanUnusedInitializers] Removing initializer '417'. It is not used by any node and should be removed from the model.\n",
      "2022-10-17 23:59:38.559174 [W:onnxruntime:, graph.cc:3211 CleanUnusedInitializers] Removing initializer '367'. It is not used by any node and should be removed from the model.\n",
      "2022-10-17 23:59:38.559193 [W:onnxruntime:, graph.cc:3211 CleanUnusedInitializers] Removing initializer '636_quantized_scale'. It is not used by any node and should be removed from the model.\n",
      "2022-10-17 23:59:38.559207 [W:onnxruntime:, graph.cc:3211 CleanUnusedInitializers] Removing initializer '606_quantized_zero_point'. It is not used by any node and should be removed from the model.\n",
      "2022-10-17 23:59:38.559220 [W:onnxruntime:, graph.cc:3211 CleanUnusedInitializers] Removing initializer '570_quantized_zero_point'. It is not used by any node and should be removed from the model.\n",
      "2022-10-17 23:59:38.559256 [W:onnxruntime:, graph.cc:3211 CleanUnusedInitializers] Removing initializer '570_quantized_scale'. It is not used by any node and should be removed from the model.\n",
      "2022-10-17 23:59:38.559270 [W:onnxruntime:, graph.cc:3211 CleanUnusedInitializers] Removing initializer '630_quantized_zero_point'. It is not used by any node and should be removed from the model.\n",
      "2022-10-17 23:59:38.559283 [W:onnxruntime:, graph.cc:3211 CleanUnusedInitializers] Removing initializer '609_quantized_scale'. It is not used by any node and should be removed from the model.\n",
      "2022-10-17 23:59:38.559296 [W:onnxruntime:, graph.cc:3211 CleanUnusedInitializers] Removing initializer '330'. It is not used by any node and should be removed from the model.\n",
      "2022-10-17 23:59:38.559309 [W:onnxruntime:, graph.cc:3211 CleanUnusedInitializers] Removing initializer '588_quantized_scale'. It is not used by any node and should be removed from the model.\n",
      "2022-10-17 23:59:38.559322 [W:onnxruntime:, graph.cc:3211 CleanUnusedInitializers] Removing initializer '482'. It is not used by any node and should be removed from the model.\n",
      "2022-10-17 23:59:38.559335 [W:onnxruntime:, graph.cc:3211 CleanUnusedInitializers] Removing initializer '609_quantized_zero_point'. It is not used by any node and should be removed from the model.\n",
      "2022-10-17 23:59:38.559347 [W:onnxruntime:, graph.cc:3211 CleanUnusedInitializers] Removing initializer '567_quantized_scale'. It is not used by any node and should be removed from the model.\n",
      "2022-10-17 23:59:38.559360 [W:onnxruntime:, graph.cc:3211 CleanUnusedInitializers] Removing initializer '456'. It is not used by any node and should be removed from the model.\n",
      "2022-10-17 23:59:38.559372 [W:onnxruntime:, graph.cc:3211 CleanUnusedInitializers] Removing initializer '392'. It is not used by any node and should be removed from the model.\n",
      "2022-10-17 23:59:38.559421 [W:onnxruntime:, graph.cc:3211 CleanUnusedInitializers] Removing initializer '579_quantized_scale'. It is not used by any node and should be removed from the model.\n",
      "2022-10-17 23:59:38.559465 [W:onnxruntime:, graph.cc:3211 CleanUnusedInitializers] Removing initializer '564_quantized_zero_point'. It is not used by any node and should be removed from the model.\n",
      "2022-10-17 23:59:38.559482 [W:onnxruntime:, graph.cc:3211 CleanUnusedInitializers] Removing initializer '564_quantized_scale'. It is not used by any node and should be removed from the model.\n",
      "2022-10-17 23:59:38.559494 [W:onnxruntime:, graph.cc:3211 CleanUnusedInitializers] Removing initializer '531'. It is not used by any node and should be removed from the model.\n",
      "2022-10-17 23:59:38.559515 [W:onnxruntime:, graph.cc:3211 CleanUnusedInitializers] Removing initializer '397'. It is not used by any node and should be removed from the model.\n",
      "2022-10-17 23:59:38.559527 [W:onnxruntime:, graph.cc:3211 CleanUnusedInitializers] Removing initializer '487'. It is not used by any node and should be removed from the model.\n",
      "2022-10-17 23:59:38.559545 [W:onnxruntime:, graph.cc:3211 CleanUnusedInitializers] Removing initializer '555_quantized_zero_point'. It is not used by any node and should be removed from the model.\n",
      "2022-10-17 23:59:38.559558 [W:onnxruntime:, graph.cc:3211 CleanUnusedInitializers] Removing initializer '582_quantized_scale'. It is not used by any node and should be removed from the model.\n",
      "2022-10-17 23:59:38.559571 [W:onnxruntime:, graph.cc:3211 CleanUnusedInitializers] Removing initializer '633_quantized_scale'. It is not used by any node and should be removed from the model.\n",
      "2022-10-17 23:59:38.559583 [W:onnxruntime:, graph.cc:3211 CleanUnusedInitializers] Removing initializer '549_quantized_zero_point'. It is not used by any node and should be removed from the model.\n",
      "2022-10-17 23:59:38.559713 [W:onnxruntime:, graph.cc:3211 CleanUnusedInitializers] Removing initializer '681_quantized_scale'. It is not used by any node and should be removed from the model.\n",
      "2022-10-17 23:59:38.559730 [W:onnxruntime:, graph.cc:3211 CleanUnusedInitializers] Removing initializer '558_quantized_scale'. It is not used by any node and should be removed from the model.\n",
      "2022-10-17 23:59:38.559744 [W:onnxruntime:, graph.cc:3211 CleanUnusedInitializers] Removing initializer '524'. It is not used by any node and should be removed from the model.\n",
      "2022-10-17 23:59:38.559799 [W:onnxruntime:, graph.cc:3211 CleanUnusedInitializers] Removing initializer '546_quantized_zero_point'. It is not used by any node and should be removed from the model.\n",
      "2022-10-17 23:59:38.559815 [W:onnxruntime:, graph.cc:3211 CleanUnusedInitializers] Removing initializer '567_quantized_zero_point'. It is not used by any node and should be removed from the model.\n",
      "2022-10-17 23:59:38.559828 [W:onnxruntime:, graph.cc:3211 CleanUnusedInitializers] Removing initializer '555_quantized_scale'. It is not used by any node and should be removed from the model.\n",
      "2022-10-17 23:59:38.559941 [W:onnxruntime:, graph.cc:3211 CleanUnusedInitializers] Removing initializer '469'. It is not used by any node and should be removed from the model.\n",
      "2022-10-17 23:59:38.559958 [W:onnxruntime:, graph.cc:3211 CleanUnusedInitializers] Removing initializer '549_quantized_scale'. It is not used by any node and should be removed from the model.\n",
      "2022-10-17 23:59:38.559971 [W:onnxruntime:, graph.cc:3211 CleanUnusedInitializers] Removing initializer '384'. It is not used by any node and should be removed from the model.\n",
      "2022-10-17 23:59:38.559984 [W:onnxruntime:, graph.cc:3211 CleanUnusedInitializers] Removing initializer '552_quantized_zero_point'. It is not used by any node and should be removed from the model.\n",
      "2022-10-17 23:59:38.559997 [W:onnxruntime:, graph.cc:3211 CleanUnusedInitializers] Removing initializer '597_quantized_scale'. It is not used by any node and should be removed from the model.\n",
      "2022-10-17 23:59:38.560018 [W:onnxruntime:, graph.cc:3211 CleanUnusedInitializers] Removing initializer '561_quantized_scale'. It is not used by any node and should be removed from the model.\n",
      "2022-10-17 23:59:38.560041 [W:onnxruntime:, graph.cc:3211 CleanUnusedInitializers] Removing initializer '409'. It is not used by any node and should be removed from the model.\n",
      "2022-10-17 23:59:38.560066 [W:onnxruntime:, graph.cc:3211 CleanUnusedInitializers] Removing initializer '618_quantized_scale'. It is not used by any node and should be removed from the model.\n",
      "2022-10-17 23:59:38.560079 [W:onnxruntime:, graph.cc:3211 CleanUnusedInitializers] Removing initializer '335'. It is not used by any node and should be removed from the model.\n",
      "2022-10-17 23:59:38.560105 [W:onnxruntime:, graph.cc:3211 CleanUnusedInitializers] Removing initializer '449'. It is not used by any node and should be removed from the model.\n",
      "2022-10-17 23:59:38.560118 [W:onnxruntime:, graph.cc:3211 CleanUnusedInitializers] Removing initializer '585_quantized_scale'. It is not used by any node and should be removed from the model.\n",
      "2022-10-17 23:59:38.560138 [W:onnxruntime:, graph.cc:3211 CleanUnusedInitializers] Removing initializer '642_quantized_scale'. It is not used by any node and should be removed from the model.\n",
      "2022-10-17 23:59:38.560151 [W:onnxruntime:, graph.cc:3211 CleanUnusedInitializers] Removing initializer '696_quantized_scale'. It is not used by any node and should be removed from the model.\n",
      "2022-10-17 23:59:38.560163 [W:onnxruntime:, graph.cc:3211 CleanUnusedInitializers] Removing initializer '444'. It is not used by any node and should be removed from the model.\n",
      "2022-10-17 23:59:38.560175 [W:onnxruntime:, graph.cc:3211 CleanUnusedInitializers] Removing initializer '385'. It is not used by any node and should be removed from the model.\n",
      "2022-10-17 23:59:38.560195 [W:onnxruntime:, graph.cc:3211 CleanUnusedInitializers] Removing initializer '693_quantized_zero_point'. It is not used by any node and should be removed from the model.\n",
      "2022-10-17 23:59:38.560208 [W:onnxruntime:, graph.cc:3211 CleanUnusedInitializers] Removing initializer '448'. It is not used by any node and should be removed from the model.\n",
      "2022-10-17 23:59:38.560221 [W:onnxruntime:, graph.cc:3211 CleanUnusedInitializers] Removing initializer '347'. It is not used by any node and should be removed from the model.\n",
      "2022-10-17 23:59:38.560233 [W:onnxruntime:, graph.cc:3211 CleanUnusedInitializers] Removing initializer '573_quantized_scale'. It is not used by any node and should be removed from the model.\n",
      "2022-10-17 23:59:38.560266 [W:onnxruntime:, graph.cc:3211 CleanUnusedInitializers] Removing initializer '615_quantized_zero_point'. It is not used by any node and should be removed from the model.\n",
      "2022-10-17 23:59:38.560278 [W:onnxruntime:, graph.cc:3211 CleanUnusedInitializers] Removing initializer '323'. It is not used by any node and should be removed from the model.\n",
      "2022-10-17 23:59:38.560299 [W:onnxruntime:, graph.cc:3211 CleanUnusedInitializers] Removing initializer '525'. It is not used by any node and should be removed from the model.\n",
      "2022-10-17 23:59:38.560311 [W:onnxruntime:, graph.cc:3211 CleanUnusedInitializers] Removing initializer '498'. It is not used by any node and should be removed from the model.\n",
      "2022-10-17 23:59:38.560323 [W:onnxruntime:, graph.cc:3211 CleanUnusedInitializers] Removing initializer '372'. It is not used by any node and should be removed from the model.\n",
      "2022-10-17 23:59:38.560335 [W:onnxruntime:, graph.cc:3211 CleanUnusedInitializers] Removing initializer '573_quantized_zero_point'. It is not used by any node and should be removed from the model.\n",
      "2022-10-17 23:59:38.560348 [W:onnxruntime:, graph.cc:3211 CleanUnusedInitializers] Removing initializer '512'. It is not used by any node and should be removed from the model.\n",
      "2022-10-17 23:59:38.560367 [W:onnxruntime:, graph.cc:3211 CleanUnusedInitializers] Removing initializer '443'. It is not used by any node and should be removed from the model.\n",
      "2022-10-17 23:59:38.560379 [W:onnxruntime:, graph.cc:3211 CleanUnusedInitializers] Removing initializer '663_quantized_scale'. It is not used by any node and should be removed from the model.\n",
      "2022-10-17 23:59:38.560433 [W:onnxruntime:, graph.cc:3211 CleanUnusedInitializers] Removing initializer '511'. It is not used by any node and should be removed from the model.\n",
      "2022-10-17 23:59:38.560470 [W:onnxruntime:, graph.cc:3211 CleanUnusedInitializers] Removing initializer '371'. It is not used by any node and should be removed from the model.\n",
      "2022-10-17 23:59:38.560483 [W:onnxruntime:, graph.cc:3211 CleanUnusedInitializers] Removing initializer '636_quantized_zero_point'. It is not used by any node and should be removed from the model.\n",
      "2022-10-17 23:59:38.560496 [W:onnxruntime:, graph.cc:3211 CleanUnusedInitializers] Removing initializer '507'. It is not used by any node and should be removed from the model.\n",
      "2022-10-17 23:59:38.560508 [W:onnxruntime:, graph.cc:3211 CleanUnusedInitializers] Removing initializer '506'. It is not used by any node and should be removed from the model.\n",
      "2022-10-17 23:59:38.560535 [W:onnxruntime:, graph.cc:3211 CleanUnusedInitializers] Removing initializer '552_quantized_scale'. It is not used by any node and should be removed from the model.\n",
      "2022-10-17 23:59:38.560548 [W:onnxruntime:, graph.cc:3211 CleanUnusedInitializers] Removing initializer '600_quantized_zero_point'. It is not used by any node and should be removed from the model.\n",
      "2022-10-17 23:59:38.560561 [W:onnxruntime:, graph.cc:3211 CleanUnusedInitializers] Removing initializer '317'. It is not used by any node and should be removed from the model.\n",
      "2022-10-17 23:59:38.560573 [W:onnxruntime:, graph.cc:3211 CleanUnusedInitializers] Removing initializer '494'. It is not used by any node and should be removed from the model.\n",
      "2022-10-17 23:59:38.560585 [W:onnxruntime:, graph.cc:3211 CleanUnusedInitializers] Removing initializer '435'. It is not used by any node and should be removed from the model.\n",
      "2022-10-17 23:59:38.560597 [W:onnxruntime:, graph.cc:3211 CleanUnusedInitializers] Removing initializer '493'. It is not used by any node and should be removed from the model.\n",
      "2022-10-17 23:59:38.560609 [W:onnxruntime:, graph.cc:3211 CleanUnusedInitializers] Removing initializer '690_quantized_zero_point'. It is not used by any node and should be removed from the model.\n",
      "2022-10-17 23:59:38.560622 [W:onnxruntime:, graph.cc:3211 CleanUnusedInitializers] Removing initializer '468'. It is not used by any node and should be removed from the model.\n",
      "2022-10-17 23:59:38.560633 [W:onnxruntime:, graph.cc:3211 CleanUnusedInitializers] Removing initializer '460'. It is not used by any node and should be removed from the model.\n",
      "2022-10-17 23:59:38.560645 [W:onnxruntime:, graph.cc:3211 CleanUnusedInitializers] Removing initializer '624_quantized_zero_point'. It is not used by any node and should be removed from the model.\n",
      "2022-10-17 23:59:38.560658 [W:onnxruntime:, graph.cc:3211 CleanUnusedInitializers] Removing initializer '621_quantized_zero_point'. It is not used by any node and should be removed from the model.\n",
      "2022-10-17 23:59:38.560671 [W:onnxruntime:, graph.cc:3211 CleanUnusedInitializers] Removing initializer '684_quantized_zero_point'. It is not used by any node and should be removed from the model.\n",
      "2022-10-17 23:59:38.560684 [W:onnxruntime:, graph.cc:3211 CleanUnusedInitializers] Removing initializer '360'. It is not used by any node and should be removed from the model.\n",
      "2022-10-17 23:59:38.560696 [W:onnxruntime:, graph.cc:3211 CleanUnusedInitializers] Removing initializer '366'. It is not used by any node and should be removed from the model.\n",
      "2022-10-17 23:59:38.560707 [W:onnxruntime:, graph.cc:3211 CleanUnusedInitializers] Removing initializer '519'. It is not used by any node and should be removed from the model.\n",
      "2022-10-17 23:59:38.560719 [W:onnxruntime:, graph.cc:3211 CleanUnusedInitializers] Removing initializer '648_quantized_zero_point'. It is not used by any node and should be removed from the model.\n",
      "2022-10-17 23:59:38.560732 [W:onnxruntime:, graph.cc:3211 CleanUnusedInitializers] Removing initializer '379'. It is not used by any node and should be removed from the model.\n",
      "2022-10-17 23:59:38.560744 [W:onnxruntime:, graph.cc:3211 CleanUnusedInitializers] Removing initializer '346'. It is not used by any node and should be removed from the model.\n",
      "2022-10-17 23:59:38.560756 [W:onnxruntime:, graph.cc:3211 CleanUnusedInitializers] Removing initializer '380'. It is not used by any node and should be removed from the model.\n",
      "2022-10-17 23:59:38.560768 [W:onnxruntime:, graph.cc:3211 CleanUnusedInitializers] Removing initializer '436'. It is not used by any node and should be removed from the model.\n",
      "2022-10-17 23:59:38.560780 [W:onnxruntime:, graph.cc:3211 CleanUnusedInitializers] Removing initializer '473'. It is not used by any node and should be removed from the model.\n",
      "2022-10-17 23:59:38.560792 [W:onnxruntime:, graph.cc:3211 CleanUnusedInitializers] Removing initializer '431'. It is not used by any node and should be removed from the model.\n",
      "2022-10-17 23:59:38.560805 [W:onnxruntime:, graph.cc:3211 CleanUnusedInitializers] Removing initializer '654_quantized_scale'. It is not used by any node and should be removed from the model.\n",
      "2022-10-17 23:59:38.560817 [W:onnxruntime:, graph.cc:3211 CleanUnusedInitializers] Removing initializer '422'. It is not used by any node and should be removed from the model.\n",
      "2022-10-17 23:59:38.560829 [W:onnxruntime:, graph.cc:3211 CleanUnusedInitializers] Removing initializer '669_quantized_scale'. It is not used by any node and should be removed from the model.\n",
      "2022-10-17 23:59:38.560841 [W:onnxruntime:, graph.cc:3211 CleanUnusedInitializers] Removing initializer '354'. It is not used by any node and should be removed from the model.\n",
      "2022-10-17 23:59:38.560853 [W:onnxruntime:, graph.cc:3211 CleanUnusedInitializers] Removing initializer '461'. It is not used by any node and should be removed from the model.\n",
      "2022-10-17 23:59:38.560865 [W:onnxruntime:, graph.cc:3211 CleanUnusedInitializers] Removing initializer '405'. It is not used by any node and should be removed from the model.\n",
      "2022-10-17 23:59:38.560882 [W:onnxruntime:, graph.cc:3211 CleanUnusedInitializers] Removing initializer '582_quantized_zero_point'. It is not used by any node and should be removed from the model.\n",
      "2022-10-17 23:59:38.560895 [W:onnxruntime:, graph.cc:3211 CleanUnusedInitializers] Removing initializer '576_quantized_zero_point'. It is not used by any node and should be removed from the model.\n",
      "2022-10-17 23:59:38.560908 [W:onnxruntime:, graph.cc:3211 CleanUnusedInitializers] Removing initializer '418'. It is not used by any node and should be removed from the model.\n",
      "2022-10-17 23:59:38.560920 [W:onnxruntime:, graph.cc:3211 CleanUnusedInitializers] Removing initializer '318'. It is not used by any node and should be removed from the model.\n",
      "2022-10-17 23:59:38.560932 [W:onnxruntime:, graph.cc:3211 CleanUnusedInitializers] Removing initializer '645_quantized_scale'. It is not used by any node and should be removed from the model.\n",
      "2022-10-17 23:59:38.560945 [W:onnxruntime:, graph.cc:3211 CleanUnusedInitializers] Removing initializer '576_quantized_scale'. It is not used by any node and should be removed from the model.\n",
      "2022-10-17 23:59:38.560958 [W:onnxruntime:, graph.cc:3211 CleanUnusedInitializers] Removing initializer '558_quantized_zero_point'. It is not used by any node and should be removed from the model.\n",
      "2022-10-17 23:59:38.560970 [W:onnxruntime:, graph.cc:3211 CleanUnusedInitializers] Removing initializer '342'. It is not used by any node and should be removed from the model.\n",
      "2022-10-17 23:59:38.560982 [W:onnxruntime:, graph.cc:3211 CleanUnusedInitializers] Removing initializer '398'. It is not used by any node and should be removed from the model.\n",
      "2022-10-17 23:59:38.560994 [W:onnxruntime:, graph.cc:3211 CleanUnusedInitializers] Removing initializer '532'. It is not used by any node and should be removed from the model.\n",
      "2022-10-17 23:59:38.561006 [W:onnxruntime:, graph.cc:3211 CleanUnusedInitializers] Removing initializer '393'. It is not used by any node and should be removed from the model.\n",
      "2022-10-17 23:59:38.561018 [W:onnxruntime:, graph.cc:3211 CleanUnusedInitializers] Removing initializer '355'. It is not used by any node and should be removed from the model.\n",
      "2022-10-17 23:59:38.561029 [W:onnxruntime:, graph.cc:3211 CleanUnusedInitializers] Removing initializer '341'. It is not used by any node and should be removed from the model.\n",
      "2022-10-17 23:59:38.561041 [W:onnxruntime:, graph.cc:3211 CleanUnusedInitializers] Removing initializer '334'. It is not used by any node and should be removed from the model.\n",
      "2022-10-17 23:59:38.561054 [W:onnxruntime:, graph.cc:3211 CleanUnusedInitializers] Removing initializer '618_quantized_zero_point'. It is not used by any node and should be removed from the model.\n",
      "2022-10-17 23:59:38.561066 [W:onnxruntime:, graph.cc:3211 CleanUnusedInitializers] Removing initializer '359'. It is not used by any node and should be removed from the model.\n",
      "2022-10-17 23:59:38.561078 [W:onnxruntime:, graph.cc:3211 CleanUnusedInitializers] Removing initializer '322'. It is not used by any node and should be removed from the model.\n"
     ]
    }
   ],
   "source": [
    "session_quant = onnxruntime.InferenceSession(\"mobilenet_v2_uint8.onnx\")\n",
    "run_sample(session_quant, 'cat.jpg', categories)"
   ]
  },
  {
   "cell_type": "markdown",
   "metadata": {},
   "source": [
    "# 3 Convert the models to ORT format"
   ]
  },
  {
   "cell_type": "markdown",
   "metadata": {},
   "source": [
    "This step is optional, we will convert the `mobilenet_v2_float.onnx` and `mobilenet_v2_uint8.onnx` to ORT format, to be used in mobile applications.\n",
    "\n",
    "If you intend to run these models using ONNXRuntime Mobile Execution Providers such as [NNAPI Execution Provider](https://www.onnxruntime.ai/docs/reference/execution-providers/NNAPI-ExecutionProvider.html) or [CoreML Execution Provider](https://www.onnxruntime.ai/docs/reference/execution-providers/CoreML-ExecutionProvider.html), please set the `optimization_level` of the conversion to `basic`. If you intend to run these models using CPU only, please set the `optimization_level` of the conversion to `all`. \n",
    "\n",
    "For further details, please see [Converting ONNX models to ORT format](https://www.onnxruntime.ai/docs/how-to/mobile/model-conversion.html)."
   ]
  },
  {
   "cell_type": "code",
   "execution_count": null,
   "metadata": {},
   "outputs": [],
   "source": [
    "!{sys.executable} -m onnxruntime.tools.convert_onnx_models_to_ort --optimization_level basic ./"
   ]
  },
  {
   "cell_type": "markdown",
   "metadata": {},
   "source": [
    "Please find the following converted models in the same directory,\n",
    "* mobilenet_v2_float.ort\n",
    "* mobilenet_v2_uint8.ort\n",
    "\n",
    "The above models are used in [ONNX Runtime Mobile image classification Android sample application](https://github.com/microsoft/onnxruntime-inference-examples/tree/main/mobile/examples/image_classification/android).\n",
    "\n",
    "Please note, there are temporary ONNX model files generated by the quantization process, which are converted to ORT format as well, please ignore these files."
   ]
  }
 ],
 "metadata": {
  "kernelspec": {
   "display_name": "Python 3 (ipykernel)",
   "language": "python",
   "name": "python3"
  },
  "language_info": {
   "codemirror_mode": {
    "name": "ipython",
    "version": 3
   },
   "file_extension": ".py",
   "mimetype": "text/x-python",
   "name": "python",
   "nbconvert_exporter": "python",
   "pygments_lexer": "ipython3",
   "version": "3.8.13"
  },
  "varInspector": {
   "cols": {
    "lenName": 16,
    "lenType": 16,
    "lenVar": 40
   },
   "kernels_config": {
    "python": {
     "delete_cmd_postfix": "",
     "delete_cmd_prefix": "del ",
     "library": "var_list.py",
     "varRefreshCmd": "print(var_dic_list())"
    },
    "r": {
     "delete_cmd_postfix": ") ",
     "delete_cmd_prefix": "rm(",
     "library": "var_list.r",
     "varRefreshCmd": "cat(var_dic_list()) "
    }
   },
   "types_to_exclude": [
    "module",
    "function",
    "builtin_function_or_method",
    "instance",
    "_Feature"
   ],
   "window_display": false
  }
 },
 "nbformat": 4,
 "nbformat_minor": 2
}
